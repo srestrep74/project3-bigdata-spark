{
 "cells": [
  {
   "cell_type": "code",
   "execution_count": 2,
   "id": "af69082f",
   "metadata": {},
   "outputs": [
    {
     "data": {
      "application/vnd.jupyter.widget-view+json": {
       "model_id": "",
       "version_major": 2,
       "version_minor": 0
      },
      "text/plain": [
       "FloatProgress(value=0.0, bar_style='info', description='Progress:', layout=Layout(height='25px', width='50%'),…"
      ]
     },
     "metadata": {},
     "output_type": "display_data"
    }
   ],
   "source": [
    "# import SparkSession\n",
    "from pyspark.sql import SparkSession\n",
    "\n",
    "# Create SparkSession\n",
    "spark = SparkSession.builder.appName(\"Data Cleaning\").getOrCreate()"
   ]
  },
  {
   "cell_type": "code",
   "execution_count": 3,
   "id": "d0569451",
   "metadata": {},
   "outputs": [
    {
     "data": {
      "application/vnd.jupyter.widget-view+json": {
       "model_id": "",
       "version_major": 2,
       "version_minor": 0
      },
      "text/plain": [
       "FloatProgress(value=0.0, bar_style='info', description='Progress:', layout=Layout(height='25px', width='50%'),…"
      ]
     },
     "metadata": {},
     "output_type": "display_data"
    }
   ],
   "source": [
    "# Load covid api database csv\n",
    "covid_api_df = spark.read.csv('s3://project-buck3/RAW/covid_api_db.csv',inferSchema=True,header=True)\n",
    "\n",
    "# load covid local database csv\n",
    "covid_local_df = spark.read.csv('s3://project-buck3/RAW/covid_local_db.csv',inferSchema=True,header=True)"
   ]
  },
  {
   "cell_type": "code",
   "execution_count": 4,
   "id": "be0d2906",
   "metadata": {},
   "outputs": [
    {
     "data": {
      "application/vnd.jupyter.widget-view+json": {
       "model_id": "",
       "version_major": 2,
       "version_minor": 0
      },
      "text/plain": [
       "FloatProgress(value=0.0, bar_style='info', description='Progress:', layout=Layout(height='25px', width='50%'),…"
      ]
     },
     "metadata": {},
     "output_type": "display_data"
    },
    {
     "name": "stdout",
     "output_type": "stream",
     "text": [
      "Covid local dataframe columns:\n",
      " - fecha\n",
      " - casos_positivos\n",
      " - pruebas_realizadas\n",
      " - personas_vacunadas\n",
      " - ocupacion_uci\n",
      " - tasa_transmision\n",
      " - medidas_control\n",
      "\n",
      "Covid API dataframe columns:\n",
      " - fecha_reporte_web\n",
      " - id_de_caso\n",
      " - fecha_de_notificaci_n\n",
      " - departamento\n",
      " - departamento_nom\n",
      " - ciudad_municipio\n",
      " - ciudad_municipio_nom\n",
      " - edad\n",
      " - unidad_medida\n",
      " - sexo\n",
      " - fuente_tipo_contagio\n",
      " - ubicacion\n",
      " - estado\n",
      " - recuperado\n",
      " - fecha_inicio_sintomas\n",
      " - fecha_diagnostico\n",
      " - fecha_recuperado\n",
      " - tipo_recuperacion\n",
      " - per_etn_\n",
      " - fecha_muerte\n",
      " - nom_grupo_"
     ]
    }
   ],
   "source": [
    "# Reconocimiento del dataframe\n",
    "def print_df_columns(df, df_name):\n",
    "    print(f'{df_name} dataframe columns:')\n",
    "    for column in df.columns:\n",
    "        print(f' - {column}')\n",
    "    print()\n",
    "    \n",
    "print_df_columns(covid_local_df, 'Covid local')\n",
    "print_df_columns(covid_api_df, 'Covid API')"
   ]
  },
  {
   "cell_type": "code",
   "execution_count": 5,
   "id": "08b2cc3e",
   "metadata": {
    "scrolled": false
   },
   "outputs": [
    {
     "data": {
      "application/vnd.jupyter.widget-view+json": {
       "model_id": "",
       "version_major": 2,
       "version_minor": 0
      },
      "text/plain": [
       "FloatProgress(value=0.0, bar_style='info', description='Progress:', layout=Layout(height='25px', width='50%'),…"
      ]
     },
     "metadata": {},
     "output_type": "display_data"
    },
    {
     "name": "stdout",
     "output_type": "stream",
     "text": [
      "Covid API dataframe columns:\n",
      " - fecha_reporte_web\n",
      " - departamento\n",
      " - departamento_nom\n",
      " - ciudad_municipio\n",
      " - ciudad_municipio_nom\n",
      " - edad\n",
      " - sexo\n",
      " - recuperado\n",
      " - fecha_inicio_sintomas\n",
      " - fecha_diagnostico\n",
      " - fecha_recuperado\n",
      " - fecha_muerte"
     ]
    }
   ],
   "source": [
    "# Delete unnecessary columns\n",
    "\n",
    "columns_to_drop = [\n",
    "    'id_de_caso',\n",
    "    'fecha_de_notificaci_n',\n",
    "    'unidad_medida',\n",
    "    'fuente_tipo_contagio',\n",
    "    'ubicacion', 'estado',\n",
    "    'tipo_recuperacion',\n",
    "    'per_etn_',\n",
    "    'nom_grupo_'\n",
    "]\n",
    "\n",
    "covid_api_df = covid_api_df.drop(*columns_to_drop)\n",
    "\n",
    "print_df_columns(covid_api_df, 'Covid API')"
   ]
  },
  {
   "cell_type": "code",
   "execution_count": 13,
   "id": "fef6a77c",
   "metadata": {},
   "outputs": [
    {
     "data": {
      "application/vnd.jupyter.widget-view+json": {
       "model_id": "",
       "version_major": 2,
       "version_minor": 0
      },
      "text/plain": [
       "FloatProgress(value=0.0, bar_style='info', description='Progress:', layout=Layout(height='25px', width='50%'),…"
      ]
     },
     "metadata": {},
     "output_type": "display_data"
    },
    {
     "name": "stdout",
     "output_type": "stream",
     "text": [
      "Covid API dataframe columns:\n",
      " - fecha_reporte\n",
      " - pruebas_realizadas\n",
      " - personas_vacunadas\n",
      " - ocupacion_uci\n",
      " - tasa_transmision\n",
      " - medidas_control"
     ]
    }
   ],
   "source": [
    "# Delete unnecessary columns\n",
    "\n",
    "columns_to_drop = [\n",
    "    'casos_positivos'\n",
    "]\n",
    "\n",
    "covid_local_df = covid_local_df.drop(*columns_to_drop)\n",
    "\n",
    "print_df_columns(covid_local_df, 'Covid API')"
   ]
  },
  {
   "cell_type": "code",
   "execution_count": 6,
   "id": "1e533f43",
   "metadata": {},
   "outputs": [
    {
     "data": {
      "application/vnd.jupyter.widget-view+json": {
       "model_id": "",
       "version_major": 2,
       "version_minor": 0
      },
      "text/plain": [
       "FloatProgress(value=0.0, bar_style='info', description='Progress:', layout=Layout(height='25px', width='50%'),…"
      ]
     },
     "metadata": {},
     "output_type": "display_data"
    },
    {
     "name": "stdout",
     "output_type": "stream",
     "text": [
      "Covid local dataframe columns:\n",
      " - fecha\n",
      " - casos_positivos\n",
      " - pruebas_realizadas\n",
      " - personas_vacunadas\n",
      " - ocupacion_uci\n",
      " - tasa_transmision\n",
      " - medidas_control\n",
      "\n",
      "Covid API dataframe columns:\n",
      " - fecha_reporte_web\n",
      " - departamento\n",
      " - departamento_nom\n",
      " - ciudad_municipio\n",
      " - ciudad_municipio_nom\n",
      " - edad\n",
      " - sexo\n",
      " - recuperado\n",
      " - fecha_inicio_sintomas\n",
      " - fecha_diagnostico\n",
      " - fecha_recuperado\n",
      " - fecha_muerte"
     ]
    }
   ],
   "source": [
    "# Normalize columns to follow the standard\n",
    "\n",
    "import unicodedata\n",
    "\n",
    "def normalize_column_names(df, df_name):\n",
    "    normalized_columns = []\n",
    "    for column_name in df.columns:\n",
    "        # Replace spaces with underscores\n",
    "        column_name = column_name.replace(\" \", \"_\")\n",
    "\n",
    "        # Remove leading and trailing spaces\n",
    "        column_name = column_name.strip()\n",
    "\n",
    "        # Convert to lowercase\n",
    "        column_name = column_name.lower()\n",
    "\n",
    "        # Remove accents and special characters\n",
    "        column_name = ''.join(\n",
    "            c for c in unicodedata.normalize('NFD', column_name) if unicodedata.category(c) != 'Mn'\n",
    "        )\n",
    "\n",
    "        normalized_columns.append(column_name)\n",
    "\n",
    "    df = df.toDF(*normalized_columns)\n",
    "    \n",
    "    print_df_columns(df, df_name)\n",
    "\n",
    "\n",
    "normalize_column_names(covid_local_df, 'Covid local')\n",
    "normalize_column_names(covid_api_df, 'Covid API')"
   ]
  },
  {
   "cell_type": "code",
   "execution_count": 7,
   "id": "0ba37268",
   "metadata": {},
   "outputs": [
    {
     "data": {
      "application/vnd.jupyter.widget-view+json": {
       "model_id": "",
       "version_major": 2,
       "version_minor": 0
      },
      "text/plain": [
       "FloatProgress(value=0.0, bar_style='info', description='Progress:', layout=Layout(height='25px', width='50%'),…"
      ]
     },
     "metadata": {},
     "output_type": "display_data"
    },
    {
     "name": "stdout",
     "output_type": "stream",
     "text": [
      "Covid local dataframe columns:\n",
      " - fecha_reporte\n",
      " - casos_positivos\n",
      " - pruebas_realizadas\n",
      " - personas_vacunadas\n",
      " - ocupacion_uci\n",
      " - tasa_transmision\n",
      " - medidas_control\n",
      "\n",
      "Covid API dataframe columns:\n",
      " - fecha_reporte\n",
      " - departamento_id\n",
      " - departamento_nombre\n",
      " - municipio_id\n",
      " - municipio_nombre\n",
      " - edad\n",
      " - sexo\n",
      " - recuperado\n",
      " - fecha_inicio_sintomas\n",
      " - fecha_diagnostico\n",
      " - fecha_recuperacion\n",
      " - fecha_muerte"
     ]
    }
   ],
   "source": [
    "# Rename columns to follow business logic\n",
    "new_column_names = {\n",
    "    'fecha': 'fecha_reporte',\n",
    "    'fecha_reporte_web': 'fecha_reporte',\n",
    "    'departamento': 'departamento_id',\n",
    "    'departamento_nom': 'departamento_nombre',\n",
    "    'ciudad_municipio': 'municipio_id',\n",
    "    'ciudad_municipio_nom': 'municipio_nombre',\n",
    "    'fecha_recuperado': 'fecha_recuperacion'\n",
    "}\n",
    "\n",
    "def rename_columns(df, df_name):\n",
    "    for column_name in df.columns:\n",
    "        if column_name in new_column_names:\n",
    "            df = df.withColumnRenamed(column_name, new_column_names[column_name])\n",
    "\n",
    "    print_df_columns(df, df_name)\n",
    "    return df\n",
    "\n",
    "covid_local_df = rename_columns(covid_local_df, 'Covid local')\n",
    "covid_api_df = rename_columns(covid_api_df, 'Covid API')"
   ]
  },
  {
   "cell_type": "code",
   "execution_count": 8,
   "id": "a06f6c98",
   "metadata": {},
   "outputs": [
    {
     "data": {
      "application/vnd.jupyter.widget-view+json": {
       "model_id": "",
       "version_major": 2,
       "version_minor": 0
      },
      "text/plain": [
       "FloatProgress(value=0.0, bar_style='info', description='Progress:', layout=Layout(height='25px', width='50%'),…"
      ]
     },
     "metadata": {},
     "output_type": "display_data"
    },
    {
     "name": "stdout",
     "output_type": "stream",
     "text": [
      "Covid local rows before drop duplicates: 1413\n",
      "Covid local rows after drop duplicates: 1413\n",
      "\n",
      "Covid API rows before drop duplicates: 1000\n",
      "Covid API rows after drop duplicates: 973"
     ]
    }
   ],
   "source": [
    "# Delete duplicate data\n",
    "\n",
    "print(f'Covid local rows before drop duplicates: {covid_local_df.count()}')\n",
    "covid_local_df = covid_local_df.dropDuplicates()\n",
    "print(f'Covid local rows after drop duplicates: {covid_local_df.count()}')\n",
    "\n",
    "print()\n",
    "\n",
    "print(f'Covid API rows before drop duplicates: {covid_api_df.count()}')\n",
    "covid_api_df = covid_api_df.dropDuplicates()\n",
    "print(f'Covid API rows after drop duplicates: {covid_api_df.count()}')"
   ]
  },
  {
   "cell_type": "code",
   "execution_count": 9,
   "id": "6fa8f2e6",
   "metadata": {},
   "outputs": [
    {
     "data": {
      "application/vnd.jupyter.widget-view+json": {
       "model_id": "",
       "version_major": 2,
       "version_minor": 0
      },
      "text/plain": [
       "FloatProgress(value=0.0, bar_style='info', description='Progress:', layout=Layout(height='25px', width='50%'),…"
      ]
     },
     "metadata": {},
     "output_type": "display_data"
    },
    {
     "name": "stdout",
     "output_type": "stream",
     "text": [
      "Covid local - 0 rows modified\n",
      "Covid local - 0 rows modified\n",
      "Covid local - 0 rows modified\n",
      "Covid local - 0 rows modified\n",
      "Covid local - 0 rows modified\n",
      "Covid local - 0 rows modified\n",
      "Covid local - 0 rows modified\n",
      "\n",
      "Covid API - 0 rows modified\n",
      "Covid API - 0 rows modified\n",
      "Covid API - 0 rows modified\n",
      "Covid API - 0 rows modified\n",
      "Covid API - 0 rows modified\n",
      "Covid API - 0 rows modified\n",
      "Covid API - 0 rows modified\n",
      "Covid API - 0 rows modified\n",
      "Covid API - 12 rows modified\n",
      "Covid API - 0 rows modified\n",
      "Covid API - 40 rows modified\n",
      "Covid API - 931 rows modified"
     ]
    }
   ],
   "source": [
    "# Standardize null values\n",
    "\n",
    "from pyspark.sql.functions import when, col\n",
    "\n",
    "def clean_blank_data(df, df_name):\n",
    "    for column_name in df.columns:\n",
    "        # Count rows with NULL values before cleaning\n",
    "        null_count_before = df.filter(col(column_name).isNull()).count()\n",
    "        \n",
    "        # Replace NULL values with 'N/A' for each column\n",
    "        df = df.withColumn(column_name, when(col(column_name).isNull(), \"N/A\").otherwise(col(column_name)))\n",
    "        \n",
    "        # Count rows with NULL values after cleaning\n",
    "        null_count_after = df.filter(col(column_name).isNull()).count()\n",
    "        \n",
    "        print(f\"{df_name} - {null_count_before} rows modified\")\n",
    "    \n",
    "    print()\n",
    "\n",
    "    return df\n",
    "\n",
    "covid_local_df = clean_blank_data(covid_local_df, \"Covid local\")\n",
    "covid_api_df = clean_blank_data(covid_api_df, \"Covid API\")"
   ]
  },
  {
   "cell_type": "code",
   "execution_count": 10,
   "id": "6ce21151",
   "metadata": {},
   "outputs": [
    {
     "data": {
      "application/vnd.jupyter.widget-view+json": {
       "model_id": "",
       "version_major": 2,
       "version_minor": 0
      },
      "text/plain": [
       "FloatProgress(value=0.0, bar_style='info', description='Progress:', layout=Layout(height='25px', width='50%'),…"
      ]
     },
     "metadata": {},
     "output_type": "display_data"
    },
    {
     "name": "stdout",
     "output_type": "stream",
     "text": [
      "+-------------+---------------+------------------+------------------+-------------+----------------+--------------------+\n",
      "|fecha_reporte|casos_positivos|pruebas_realizadas|personas_vacunadas|ocupacion_uci|tasa_transmision|     medidas_control|\n",
      "+-------------+---------------+------------------+------------------+-------------+----------------+--------------------+\n",
      "|   2020-10-13|            117|               458|                69|        96.69|            2.05|   Sin restricciones|\n",
      "|   2021-06-18|            156|               264|               130|        87.87|            0.93| Cierre de fronteras|\n",
      "|   2021-10-13|            402|               678|               751|        77.06|            1.97|   Sin restricciones|\n",
      "|   2022-06-05|            407|               886|               163|        71.11|            2.05| Cuarentena estricta|\n",
      "|   2022-09-12|            268|               566|               732|        55.93|            1.78|Restricción nocturna|\n",
      "+-------------+---------------+------------------+------------------+-------------+----------------+--------------------+\n",
      "only showing top 5 rows\n",
      "\n",
      "+-------------+---------------+-------------------+------------+----------------+----+----+----------+---------------------+-----------------+------------------+------------+\n",
      "|fecha_reporte|departamento_id|departamento_nombre|municipio_id|municipio_nombre|edad|sexo|recuperado|fecha_inicio_sintomas|fecha_diagnostico|fecha_recuperacion|fecha_muerte|\n",
      "+-------------+---------------+-------------------+------------+----------------+----+----+----------+---------------------+-----------------+------------------+------------+\n",
      "|   2020-07-18|             44|            GUAJIRA|       44001|        RIOHACHA|  38|   F|Recuperado|           2020-06-27|       2020-07-11|        2020-07-27|         N/A|\n",
      "|   2021-01-07|             76|              VALLE|       76001|            CALI|  67|   M|Recuperado|           2020-12-27|       2021-01-05|        2021-02-26|         N/A|\n",
      "|   2020-07-09|             11|             BOGOTA|       11001|          BOGOTA|  50|   F|Recuperado|           2020-06-29|       2020-07-09|        2020-07-28|         N/A|\n",
      "|   2020-09-03|              5|          ANTIOQUIA|        5088|           BELLO|  22|   M|Recuperado|           2020-08-15|       2020-08-30|        2021-06-02|         N/A|\n",
      "|   2020-07-18|           8001|       BARRANQUILLA|        8001|    BARRANQUILLA|  35|   M|Recuperado|           2020-06-27|       2020-07-11|        2020-07-28|         N/A|\n",
      "+-------------+---------------+-------------------+------------+----------------+----+----+----------+---------------------+-----------------+------------------+------------+\n",
      "only showing top 5 rows"
     ]
    }
   ],
   "source": [
    "# Format date columns\n",
    "\n",
    "from pyspark.sql.functions import col, split, trim, to_date\n",
    "\n",
    "def convert_date_columns(df):\n",
    "    for column_name in df.columns:\n",
    "        if \"fecha\" in column_name.lower():  # Checks if the column name contains the word 'date'\n",
    "            # Remove the time part, keeping only the date\n",
    "            df = df.withColumn(column_name, trim(split(col(column_name), ' ').getItem(0)))\n",
    "    \n",
    "    return df\n",
    "\n",
    "\n",
    "covid_local_df = convert_date_columns(covid_local_df)\n",
    "covid_api_df = convert_date_columns(covid_api_df)\n",
    "\n",
    "covid_local_df.show(5)\n",
    "covid_api_df.show(5)"
   ]
  },
  {
   "cell_type": "code",
   "execution_count": 14,
   "id": "7964f03b",
   "metadata": {},
   "outputs": [
    {
     "data": {
      "application/vnd.jupyter.widget-view+json": {
       "model_id": "",
       "version_major": 2,
       "version_minor": 0
      },
      "text/plain": [
       "FloatProgress(value=0.0, bar_style='info', description='Progress:', layout=Layout(height='25px', width='50%'),…"
      ]
     },
     "metadata": {},
     "output_type": "display_data"
    }
   ],
   "source": [
    "# Save merged dataframe on trusted\n",
    "\n",
    "trusted_dir = \"s3://project-buck3/TRUSTED/local_db\"\n",
    "\n",
    "covid_local_df.coalesce(1).write.format(\"csv\").option(\"header\", \"true\").mode(\"overwrite\").save(trusted_dir)"
   ]
  },
  {
   "cell_type": "code",
   "execution_count": 15,
   "id": "f032997c",
   "metadata": {},
   "outputs": [
    {
     "data": {
      "application/vnd.jupyter.widget-view+json": {
       "model_id": "",
       "version_major": 2,
       "version_minor": 0
      },
      "text/plain": [
       "FloatProgress(value=0.0, bar_style='info', description='Progress:', layout=Layout(height='25px', width='50%'),…"
      ]
     },
     "metadata": {},
     "output_type": "display_data"
    }
   ],
   "source": [
    "# Save merged dataframe on trusted\n",
    "\n",
    "trusted_dir = \"s3://project-buck3/TRUSTED/api_db\"\n",
    "\n",
    "covid_api_df.coalesce(1).write.format(\"csv\").option(\"header\", \"true\").mode(\"overwrite\").save(trusted_dir)"
   ]
  },
  {
   "cell_type": "code",
   "execution_count": null,
   "id": "3e3efa77",
   "metadata": {},
   "outputs": [],
   "source": []
  }
 ],
 "metadata": {
  "kernelspec": {
   "display_name": "PySpark",
   "language": "python",
   "name": "pysparkkernel"
  },
  "language_info": {
   "codemirror_mode": {
    "name": "python",
    "version": 3
   },
   "file_extension": ".py",
   "mimetype": "text/x-python",
   "name": "pyspark",
   "pygments_lexer": "python3"
  }
 },
 "nbformat": 4,
 "nbformat_minor": 5
}

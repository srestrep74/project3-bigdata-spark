{
 "cells": [
  {
   "cell_type": "code",
   "execution_count": 1,
   "id": "fe8b58db",
   "metadata": {},
   "outputs": [
    {
     "name": "stdout",
     "output_type": "stream",
     "text": [
      "Starting Spark application\n"
     ]
    },
    {
     "data": {
      "text/html": [
       "<table>\n",
       "<tr><th>ID</th><th>YARN Application ID</th><th>Kind</th><th>State</th><th>Spark UI</th><th>Driver log</th><th>User</th><th>Current session?</th></tr><tr><td>3</td><td>application_1732380342473_0004</td><td>pyspark</td><td>idle</td><td><a target=\"_blank\" href=\"http://ip-172-31-6-71.ec2.internal:20888/proxy/application_1732380342473_0004/\">Link</a></td><td><a target=\"_blank\" href=\"http://ip-172-31-6-202.ec2.internal:8042/node/containerlogs/container_1732380342473_0004_01_000001/livy\">Link</a></td><td>None</td><td>✔</td></tr></table>"
      ],
      "text/plain": [
       "<IPython.core.display.HTML object>"
      ]
     },
     "metadata": {},
     "output_type": "display_data"
    },
    {
     "data": {
      "application/vnd.jupyter.widget-view+json": {
       "model_id": "",
       "version_major": 2,
       "version_minor": 0
      },
      "text/plain": [
       "FloatProgress(value=0.0, bar_style='info', description='Progress:', layout=Layout(height='25px', width='50%'),…"
      ]
     },
     "metadata": {},
     "output_type": "display_data"
    },
    {
     "name": "stdout",
     "output_type": "stream",
     "text": [
      "SparkSession available as 'spark'.\n"
     ]
    },
    {
     "data": {
      "application/vnd.jupyter.widget-view+json": {
       "model_id": "",
       "version_major": 2,
       "version_minor": 0
      },
      "text/plain": [
       "FloatProgress(value=0.0, bar_style='info', description='Progress:', layout=Layout(height='25px', width='50%'),…"
      ]
     },
     "metadata": {},
     "output_type": "display_data"
    },
    {
     "name": "stdout",
     "output_type": "stream",
     "text": [
      "<pyspark.sql.session.SparkSession object at 0x7f5115734d90>"
     ]
    }
   ],
   "source": [
    "spark"
   ]
  },
  {
   "cell_type": "code",
   "execution_count": 2,
   "id": "a9f7c3ab",
   "metadata": {},
   "outputs": [
    {
     "data": {
      "application/vnd.jupyter.widget-view+json": {
       "model_id": "",
       "version_major": 2,
       "version_minor": 0
      },
      "text/plain": [
       "FloatProgress(value=0.0, bar_style='info', description='Progress:', layout=Layout(height='25px', width='50%'),…"
      ]
     },
     "metadata": {},
     "output_type": "display_data"
    },
    {
     "name": "stdout",
     "output_type": "stream",
     "text": [
      "<SparkContext master=yarn appName=livy-session-3>"
     ]
    }
   ],
   "source": [
    "sc"
   ]
  },
  {
   "cell_type": "code",
   "execution_count": 3,
   "id": "575898ed",
   "metadata": {},
   "outputs": [
    {
     "data": {
      "application/vnd.jupyter.widget-view+json": {
       "model_id": "",
       "version_major": 2,
       "version_minor": 0
      },
      "text/plain": [
       "FloatProgress(value=0.0, bar_style='info', description='Progress:', layout=Layout(height='25px', width='50%'),…"
      ]
     },
     "metadata": {},
     "output_type": "display_data"
    },
    {
     "name": "stdout",
     "output_type": "stream",
     "text": [
      "DataFrame[]"
     ]
    }
   ],
   "source": [
    "spark.sql(\n",
    "\"\"\"\n",
    "CREATE OR REPLACE TEMPORARY VIEW api_df \n",
    "USING csv \n",
    "OPTIONS (path 's3://project-buck3/TRUSTED/api_db/cleaned_data.csv', header 'true', inferSchema 'true');\n",
    "\n",
    "\"\"\"\n",
    ")"
   ]
  },
  {
   "cell_type": "code",
   "execution_count": 4,
   "id": "e8c3c248",
   "metadata": {},
   "outputs": [
    {
     "data": {
      "application/vnd.jupyter.widget-view+json": {
       "model_id": "",
       "version_major": 2,
       "version_minor": 0
      },
      "text/plain": [
       "FloatProgress(value=0.0, bar_style='info', description='Progress:', layout=Layout(height='25px', width='50%'),…"
      ]
     },
     "metadata": {},
     "output_type": "display_data"
    },
    {
     "name": "stdout",
     "output_type": "stream",
     "text": [
      "DataFrame[]"
     ]
    }
   ],
   "source": [
    "spark.sql(\n",
    "\"\"\"\n",
    "CREATE OR REPLACE TEMPORARY VIEW local_df \n",
    "USING csv \n",
    "OPTIONS (path 's3://project-buck3/TRUSTED/local_db/cleaned_data.csv', header 'true', inferSchema 'true');\n",
    "\"\"\"\n",
    ")"
   ]
  },
  {
   "cell_type": "code",
   "execution_count": 9,
   "id": "77789aac",
   "metadata": {},
   "outputs": [
    {
     "data": {
      "application/vnd.jupyter.widget-view+json": {
       "model_id": "",
       "version_major": 2,
       "version_minor": 0
      },
      "text/plain": [
       "FloatProgress(value=0.0, bar_style='info', description='Progress:', layout=Layout(height='25px', width='50%'),…"
      ]
     },
     "metadata": {},
     "output_type": "display_data"
    },
    {
     "name": "stdout",
     "output_type": "stream",
     "text": [
      "Covid API Data dataframe columns:\n",
      " - fecha_reporte\n",
      " - departamento_id\n",
      " - departamento_nombre\n",
      " - municipio_id\n",
      " - municipio_nombre\n",
      " - edad\n",
      " - sexo\n",
      " - recuperado\n",
      " - fecha_inicio_sintomas\n",
      " - fecha_diagnostico\n",
      " - fecha_recuperacion\n",
      " - fecha_muerte\n",
      "\n",
      "Covid Local Data dataframe columns:\n",
      " - fecha_reporte\n",
      " - pruebas_realizadas\n",
      " - personas_vacunadas\n",
      " - ocupacion_uci\n",
      " - tasa_transmision\n",
      " - medidas_control"
     ]
    }
   ],
   "source": [
    "def print_df_columns(view_name, df_name):\n",
    "    print(f'{df_name} dataframe columns:')\n",
    "    columns = spark.sql(f\"DESCRIBE {view_name}\").collect()\n",
    "    for column in columns:\n",
    "        print(f' - {column[0]}')\n",
    "    print()\n",
    "\n",
    "print_df_columns(\"api_df\", \"Covid API Data\")\n",
    "print_df_columns(\"local_df\", \"Covid Local Data\")"
   ]
  },
  {
   "cell_type": "code",
   "execution_count": 10,
   "id": "7953e700",
   "metadata": {},
   "outputs": [
    {
     "data": {
      "application/vnd.jupyter.widget-view+json": {
       "model_id": "",
       "version_major": 2,
       "version_minor": 0
      },
      "text/plain": [
       "FloatProgress(value=0.0, bar_style='info', description='Progress:', layout=Layout(height='25px', width='50%'),…"
      ]
     },
     "metadata": {},
     "output_type": "display_data"
    },
    {
     "name": "stdout",
     "output_type": "stream",
     "text": [
      "El n?mero total de filas en api_df es: 973"
     ]
    }
   ],
   "source": [
    "count_query = spark.sql(\"SELECT COUNT(*) FROM api_df\")\n",
    "count_result = count_query.collect()[0][0]\n",
    "print(f\"El número total de filas en api_df es: {count_result}\")\n"
   ]
  },
  {
   "cell_type": "code",
   "execution_count": 11,
   "id": "1bdfece6",
   "metadata": {},
   "outputs": [
    {
     "data": {
      "application/vnd.jupyter.widget-view+json": {
       "model_id": "",
       "version_major": 2,
       "version_minor": 0
      },
      "text/plain": [
       "FloatProgress(value=0.0, bar_style='info', description='Progress:', layout=Layout(height='25px', width='50%'),…"
      ]
     },
     "metadata": {},
     "output_type": "display_data"
    },
    {
     "name": "stdout",
     "output_type": "stream",
     "text": [
      "El n?mero total de filas en local_df es: 1413"
     ]
    }
   ],
   "source": [
    "count_query = spark.sql(\"SELECT COUNT(*) FROM local_df\")\n",
    "count_result = count_query.collect()[0][0]\n",
    "print(f\"El número total de filas en local_df es: {count_result}\")\n"
   ]
  },
  {
   "cell_type": "code",
   "execution_count": 12,
   "id": "a297f2dd",
   "metadata": {},
   "outputs": [
    {
     "data": {
      "application/vnd.jupyter.widget-view+json": {
       "model_id": "",
       "version_major": 2,
       "version_minor": 0
      },
      "text/plain": [
       "FloatProgress(value=0.0, bar_style='info', description='Progress:', layout=Layout(height='25px', width='50%'),…"
      ]
     },
     "metadata": {},
     "output_type": "display_data"
    },
    {
     "name": "stdout",
     "output_type": "stream",
     "text": [
      "api_df schema:\n",
      " - fecha_reporte: date\n",
      " - departamento_id: int\n",
      " - departamento_nombre: string\n",
      " - municipio_id: int\n",
      " - municipio_nombre: string\n",
      " - edad: int\n",
      " - sexo: string\n",
      " - recuperado: string\n",
      " - fecha_inicio_sintomas: string\n",
      " - fecha_diagnostico: date\n",
      " - fecha_recuperacion: string\n",
      " - fecha_muerte: string"
     ]
    }
   ],
   "source": [
    "columns = spark.sql(\"DESCRIBE api_df\").collect()\n",
    "print(\"api_df schema:\")\n",
    "for column in columns:\n",
    "    print(f' - {column[0]}: {column[1]}')\n"
   ]
  },
  {
   "cell_type": "code",
   "execution_count": 13,
   "id": "f2c930c4",
   "metadata": {},
   "outputs": [
    {
     "data": {
      "application/vnd.jupyter.widget-view+json": {
       "model_id": "",
       "version_major": 2,
       "version_minor": 0
      },
      "text/plain": [
       "FloatProgress(value=0.0, bar_style='info', description='Progress:', layout=Layout(height='25px', width='50%'),…"
      ]
     },
     "metadata": {},
     "output_type": "display_data"
    },
    {
     "name": "stdout",
     "output_type": "stream",
     "text": [
      "local_df schema:\n",
      " - fecha_reporte: date\n",
      " - pruebas_realizadas: int\n",
      " - personas_vacunadas: int\n",
      " - ocupacion_uci: double\n",
      " - tasa_transmision: double\n",
      " - medidas_control: string"
     ]
    }
   ],
   "source": [
    "columns = spark.sql(\"DESCRIBE local_df\").collect()\n",
    "print(\"local_df schema:\")\n",
    "for column in columns:\n",
    "    print(f' - {column[0]}: {column[1]}')\n"
   ]
  },
  {
   "cell_type": "code",
   "execution_count": 14,
   "id": "8bf4bccf",
   "metadata": {},
   "outputs": [
    {
     "data": {
      "application/vnd.jupyter.widget-view+json": {
       "model_id": "",
       "version_major": 2,
       "version_minor": 0
      },
      "text/plain": [
       "FloatProgress(value=0.0, bar_style='info', description='Progress:', layout=Layout(height='25px', width='50%'),…"
      ]
     },
     "metadata": {},
     "output_type": "display_data"
    },
    {
     "name": "stdout",
     "output_type": "stream",
     "text": [
      "+-------------+---------------+-------------------+------------+----------------+----+----+----------+---------------------+-----------------+------------------+------------+\n",
      "|fecha_reporte|departamento_id|departamento_nombre|municipio_id|municipio_nombre|edad|sexo|recuperado|fecha_inicio_sintomas|fecha_diagnostico|fecha_recuperacion|fecha_muerte|\n",
      "+-------------+---------------+-------------------+------------+----------------+----+----+----------+---------------------+-----------------+------------------+------------+\n",
      "|   2020-07-18|             44|            GUAJIRA|       44001|        RIOHACHA|  38|   F|Recuperado|           2020-06-27|       2020-07-11|        2020-07-27|         N/A|\n",
      "|   2021-01-07|             76|              VALLE|       76001|            CALI|  67|   M|Recuperado|           2020-12-27|       2021-01-05|        2021-02-26|         N/A|\n",
      "|   2020-07-09|             11|             BOGOTA|       11001|          BOGOTA|  50|   F|Recuperado|           2020-06-29|       2020-07-09|        2020-07-28|         N/A|\n",
      "|   2020-09-03|              5|          ANTIOQUIA|        5088|           BELLO|  22|   M|Recuperado|           2020-08-15|       2020-08-30|        2021-06-02|         N/A|\n",
      "|   2020-07-18|           8001|       BARRANQUILLA|        8001|    BARRANQUILLA|  35|   M|Recuperado|           2020-06-27|       2020-07-11|        2020-07-28|         N/A|\n",
      "|   2020-07-25|             11|             BOGOTA|       11001|          BOGOTA|  46|   F|Recuperado|           2020-07-11|       2020-07-24|        2020-08-09|         N/A|\n",
      "|   2020-11-08|             76|              VALLE|       76001|            CALI|  30|   F|Recuperado|           2020-10-30|       2020-11-04|        2020-11-14|         N/A|\n",
      "|   2021-01-07|             76|              VALLE|       76001|            CALI|  41|   F|Recuperado|           2020-12-22|       2021-01-04|        2021-01-08|         N/A|\n",
      "|   2020-09-03|              5|          ANTIOQUIA|        5615|        RIONEGRO|   2|   F|Recuperado|           2020-08-16|       2020-08-31|        2020-09-08|         N/A|\n",
      "|   2020-11-08|             11|             BOGOTA|       11001|          BOGOTA|  81|   F| Fallecido|           2020-10-31|       2020-11-07|               N/A|  2020-11-11|\n",
      "|   2020-07-18|          13001|          CARTAGENA|       13001|       CARTAGENA|   9|   M|Recuperado|           2020-06-27|       2020-07-11|        2020-07-27|         N/A|\n",
      "|   2021-01-14|             11|             BOGOTA|       11001|          BOGOTA|  38|   M|Recuperado|                  N/A|       2021-01-12|        2021-01-27|         N/A|\n",
      "|   2020-06-25|             44|            GUAJIRA|       44847|          URIBIA|  22|   F|Recuperado|           2020-06-17|       2020-06-25|        2020-07-17|         N/A|\n",
      "|   2020-05-23|          13001|          CARTAGENA|       13001|       CARTAGENA|  37|   M|Recuperado|           2020-05-15|       2020-05-23|        2020-06-18|         N/A|\n",
      "|   2020-09-03|              5|          ANTIOQUIA|        5088|           BELLO|  53|   M|Recuperado|           2020-08-17|       2020-09-01|        2020-09-08|         N/A|\n",
      "|   2020-07-09|             11|             BOGOTA|       11001|          BOGOTA|  61|   F|Recuperado|           2020-06-27|       2020-07-09|        2020-08-10|         N/A|\n",
      "|   2020-08-05|             11|             BOGOTA|       11001|          BOGOTA|  44|   M|Recuperado|           2020-07-30|       2020-08-04|        2020-08-24|         N/A|\n",
      "|   2020-08-05|             73|             TOLIMA|       73001|          IBAGUE|  33|   F|Recuperado|           2020-07-30|       2020-08-04|        2020-08-24|         N/A|\n",
      "|   2020-07-18|           8001|       BARRANQUILLA|        8001|    BARRANQUILLA|  57|   M|Recuperado|           2020-06-27|       2020-07-11|        2020-07-27|         N/A|\n",
      "|   2020-07-18|          13001|          CARTAGENA|       13001|       CARTAGENA|  31|   M|Recuperado|           2020-06-28|       2020-07-12|        2020-07-28|         N/A|\n",
      "+-------------+---------------+-------------------+------------+----------------+----+----+----------+---------------------+-----------------+------------------+------------+"
     ]
    }
   ],
   "source": [
    "spark.sql(\"SELECT * FROM api_df LIMIT 20\").show()\n"
   ]
  },
  {
   "cell_type": "code",
   "execution_count": 15,
   "id": "7fa5c170",
   "metadata": {},
   "outputs": [
    {
     "data": {
      "application/vnd.jupyter.widget-view+json": {
       "model_id": "",
       "version_major": 2,
       "version_minor": 0
      },
      "text/plain": [
       "FloatProgress(value=0.0, bar_style='info', description='Progress:', layout=Layout(height='25px', width='50%'),…"
      ]
     },
     "metadata": {},
     "output_type": "display_data"
    },
    {
     "name": "stdout",
     "output_type": "stream",
     "text": [
      "+-------------+------------------+------------------+-------------+----------------+--------------------+\n",
      "|fecha_reporte|pruebas_realizadas|personas_vacunadas|ocupacion_uci|tasa_transmision|     medidas_control|\n",
      "+-------------+------------------+------------------+-------------+----------------+--------------------+\n",
      "|   2020-10-13|               458|                69|        96.69|            2.05|   Sin restricciones|\n",
      "|   2021-06-18|               264|               130|        87.87|            0.93| Cierre de fronteras|\n",
      "|   2021-10-13|               678|               751|        77.06|            1.97|   Sin restricciones|\n",
      "|   2022-06-05|               886|               163|        71.11|            2.05| Cuarentena estricta|\n",
      "|   2022-09-12|               566|               732|        55.93|            1.78|Restricción nocturna|\n",
      "|   2023-09-24|               653|               859|        92.79|            1.51| Cierre de fronteras|\n",
      "|   2023-10-20|               420|               102|        96.97|            2.39|   Sin restricciones|\n",
      "|   2022-06-08|               619|               327|        96.56|            1.92| Cuarentena estricta|\n",
      "|   2021-10-22|               390|                11|        73.49|            2.05|Restricción nocturna|\n",
      "|   2021-12-03|               490|               248|        97.23|            2.07|Restricción nocturna|\n",
      "|   2022-01-01|               408|               304|        98.29|            1.33| Cuarentena estricta|\n",
      "|   2023-07-16|               202|               147|        77.15|            1.78| Cierre de fronteras|\n",
      "|   2020-09-28|               476|               779|        76.51|            1.39|Restricción nocturna|\n",
      "|   2023-09-13|               544|               166|        91.83|            1.12|Restricción nocturna|\n",
      "|   2020-04-12|               677|               457|        86.75|            1.79| Cierre de fronteras|\n",
      "|   2021-04-27|               675|               295|        70.87|            2.15|Restricción nocturna|\n",
      "|   2021-12-10|               720|               297|        87.43|            2.15|Restricción nocturna|\n",
      "|   2020-10-06|               509|               231|        76.73|            1.21| Cierre de fronteras|\n",
      "|   2023-05-27|               635|               172|        77.13|            1.53| Cierre de fronteras|\n",
      "|   2020-08-29|               591|               637|        81.82|            1.53|Restricción nocturna|\n",
      "+-------------+------------------+------------------+-------------+----------------+--------------------+"
     ]
    }
   ],
   "source": [
    "spark.sql(\"SELECT * FROM local_df LIMIT 20\").show()\n"
   ]
  },
  {
   "cell_type": "code",
   "execution_count": 29,
   "id": "98c1454a",
   "metadata": {},
   "outputs": [
    {
     "data": {
      "application/vnd.jupyter.widget-view+json": {
       "model_id": "",
       "version_major": 2,
       "version_minor": 0
      },
      "text/plain": [
       "FloatProgress(value=0.0, bar_style='info', description='Progress:', layout=Layout(height='25px', width='50%'),…"
      ]
     },
     "metadata": {},
     "output_type": "display_data"
    }
   ],
   "source": [
    "trusted_dir = \"s3://project-buck3/REFINED/spark/\""
   ]
  },
  {
   "cell_type": "code",
   "execution_count": 30,
   "id": "a2387c65",
   "metadata": {
    "scrolled": true
   },
   "outputs": [
    {
     "data": {
      "application/vnd.jupyter.widget-view+json": {
       "model_id": "",
       "version_major": 2,
       "version_minor": 0
      },
      "text/plain": [
       "FloatProgress(value=0.0, bar_style='info', description='Progress:', layout=Layout(height='25px', width='50%'),…"
      ]
     },
     "metadata": {},
     "output_type": "display_data"
    },
    {
     "name": "stdout",
     "output_type": "stream",
     "text": [
      "+-------------------+----------------+-----+\n",
      "|departamento_nombre|municipio_nombre|count|\n",
      "+-------------------+----------------+-----+\n",
      "|             BOGOTA|          BOGOTA|  174|\n",
      "|              VALLE|            CALI|  164|\n",
      "|          ANTIOQUIA|        MEDELLIN|   77|\n",
      "|          ANTIOQUIA|           BELLO|   63|\n",
      "|          CARTAGENA|       CARTAGENA|   51|\n",
      "|       BARRANQUILLA|    BARRANQUILLA|   51|\n",
      "|          SANTANDER| BARRANCABERMEJA|   43|\n",
      "|          ANTIOQUIA|          ITAGUI|   30|\n",
      "|          SANTANDER|     BUCARAMANGA|   22|\n",
      "|             TOLIMA|          IBAGUE|   22|\n",
      "|          SANTANDER|   FLORIDABLANCA|   21|\n",
      "|              SUCRE|       SINCELEJO|   20|\n",
      "|               META|   VILLAVICENCIO|   17|\n",
      "|          SANTANDER|     PIEDECUESTA|   12|\n",
      "|     STA MARTA D.E.|     SANTA MARTA|   12|\n",
      "|             CALDAS|       MANIZALES|   10|\n",
      "|              CAUCA|         POPAYAN|    9|\n",
      "|            CORDOBA|        MONTERIA|    9|\n",
      "|          ANTIOQUIA|        RIONEGRO|    6|\n",
      "|          ATLANTICO|         SOLEDAD|    6|\n",
      "+-------------------+----------------+-----+"
     ]
    }
   ],
   "source": [
    "# Crear una vista temporal casos_por_ubicacion con SQL\n",
    "spark.sql(\"\"\"\n",
    "CREATE OR REPLACE TEMP VIEW casos_por_ubicacion AS\n",
    "SELECT departamento_nombre, municipio_nombre, COUNT(*) as count\n",
    "FROM api_df\n",
    "GROUP BY departamento_nombre, municipio_nombre\n",
    "ORDER BY count DESC\n",
    "\"\"\")\n",
    "# Ejecutar la consulta para mostrar los resultados\n",
    "spark.sql(\"SELECT * FROM casos_por_ubicacion LIMIT 20\").show()\n",
    "# Guardar los resultados en un archivo CSV\n",
    "spark.sql(\"SELECT * FROM casos_por_ubicacion\").coalesce(1).write.format(\"csv\").option(\"header\", \"true\").mode(\"overwrite\").save(trusted_dir + \"casos_por_ubicacion\")\n"
   ]
  },
  {
   "cell_type": "code",
   "execution_count": 31,
   "id": "3388b905",
   "metadata": {},
   "outputs": [
    {
     "data": {
      "application/vnd.jupyter.widget-view+json": {
       "model_id": "",
       "version_major": 2,
       "version_minor": 0
      },
      "text/plain": [
       "FloatProgress(value=0.0, bar_style='info', description='Progress:', layout=Layout(height='25px', width='50%'),…"
      ]
     },
     "metadata": {},
     "output_type": "display_data"
    },
    {
     "name": "stdout",
     "output_type": "stream",
     "text": [
      "+-------------+-----+\n",
      "|fecha_reporte|count|\n",
      "+-------------+-----+\n",
      "|   2020-09-03|  180|\n",
      "|   2020-07-18|  134|\n",
      "|   2020-06-25|   96|\n",
      "|   2021-01-07|   70|\n",
      "|   2020-11-08|   61|\n",
      "|   2021-01-14|   60|\n",
      "|   2020-07-25|   54|\n",
      "|   2020-08-05|   49|\n",
      "|   2020-09-23|   45|\n",
      "|   2020-12-24|   30|\n",
      "|   2020-08-13|   30|\n",
      "|   2020-10-23|   29|\n",
      "|   2021-01-13|   24|\n",
      "|   2020-12-08|   21|\n",
      "|   2020-07-09|   18|\n",
      "|   2020-09-13|   15|\n",
      "|   2021-01-12|   13|\n",
      "|   2020-10-03|   12|\n",
      "|   2020-08-17|   11|\n",
      "|   2020-08-25|   10|\n",
      "+-------------+-----+"
     ]
    }
   ],
   "source": [
    "spark.sql(\"\"\"\n",
    "CREATE OR REPLACE TEMP VIEW df_converted AS\n",
    "SELECT *, to_date(fecha_reporte, 'yyyy-MM-dd') as fecha_reporte_converted\n",
    "FROM api_df\n",
    "\"\"\")\n",
    "# Crear una vista temporal casos_por_dia con SQL\n",
    "spark.sql(\"\"\"\n",
    "CREATE OR REPLACE TEMP VIEW casos_por_dia AS\n",
    "SELECT fecha_reporte_converted AS fecha_reporte, COUNT(*) as count\n",
    "FROM df_converted\n",
    "GROUP BY fecha_reporte_converted\n",
    "ORDER BY count DESC\n",
    "\"\"\")\n",
    "# Ejecutar la consulta para mostrar los resultados\n",
    "spark.sql(\"SELECT * FROM casos_por_dia LIMIT 20\").show()\n",
    "# Guardar los resultados en un archivo CSV\n",
    "spark.sql(\"SELECT * FROM casos_por_dia\").coalesce(1).write.format(\"csv\").option(\"header\", \"true\").mode(\"overwrite\").save(trusted_dir + \"/casos_por_dia\")\n"
   ]
  },
  {
   "cell_type": "code",
   "execution_count": 32,
   "id": "72a91315",
   "metadata": {},
   "outputs": [
    {
     "data": {
      "application/vnd.jupyter.widget-view+json": {
       "model_id": "",
       "version_major": 2,
       "version_minor": 0
      },
      "text/plain": [
       "FloatProgress(value=0.0, bar_style='info', description='Progress:', layout=Layout(height='25px', width='50%'),…"
      ]
     },
     "metadata": {},
     "output_type": "display_data"
    },
    {
     "name": "stdout",
     "output_type": "stream",
     "text": [
      "+----+-----+\n",
      "|edad|count|\n",
      "+----+-----+\n",
      "|  33|   37|\n",
      "|  32|   34|\n",
      "|  35|   27|\n",
      "|  30|   27|\n",
      "|  25|   24|\n",
      "|  26|   23|\n",
      "|  40|   23|\n",
      "|  52|   23|\n",
      "|  23|   22|\n",
      "|  22|   22|\n",
      "|  31|   22|\n",
      "|  42|   22|\n",
      "|  34|   21|\n",
      "|  24|   21|\n",
      "|  29|   21|\n",
      "|  38|   21|\n",
      "|  41|   20|\n",
      "|  36|   19|\n",
      "|  37|   19|\n",
      "|  39|   19|\n",
      "+----+-----+\n",
      "\n",
      "+----+-----+\n",
      "|sexo|count|\n",
      "+----+-----+\n",
      "|   M|  540|\n",
      "|   F|  433|\n",
      "+----+-----+"
     ]
    }
   ],
   "source": [
    "# Crear una vista temporal casos_por_edad con SQL\n",
    "spark.sql(\"\"\"\n",
    "CREATE OR REPLACE TEMP VIEW casos_por_edad AS\n",
    "SELECT edad, COUNT(*) as count\n",
    "FROM api_df\n",
    "GROUP BY edad\n",
    "ORDER BY count DESC\n",
    "\"\"\")\n",
    "# Ejecutar la consulta para mostrar los resultados\n",
    "spark.sql(\"SELECT * FROM casos_por_edad LIMIT 20\").show()\n",
    "# Guardar los resultados en un archivo CSV\n",
    "spark.sql(\"SELECT * FROM casos_por_edad\").coalesce(1).write.format(\"csv\").option(\"header\", \"true\").mode(\"overwrite\").save(trusted_dir + \"/casos_por_edad\")\n",
    "# Crear una vista temporal casos_por_sexo con SQL\n",
    "spark.sql(\"\"\"\n",
    "CREATE OR REPLACE TEMP VIEW casos_por_sexo AS\n",
    "SELECT sexo, COUNT(*) as count\n",
    "FROM api_df\n",
    "GROUP BY sexo\n",
    "\"\"\")\n",
    "# Ejecutar la consulta para mostrar los resultados\n",
    "spark.sql(\"SELECT * FROM casos_por_sexo\").show()\n",
    "# Guardar los resultados en un archivo CSV\n",
    "spark.sql(\"SELECT * FROM casos_por_sexo\").coalesce(1).write.format(\"csv\").option(\"header\", \"true\").mode(\"overwrite\").save(trusted_dir + \"/casos_por_sexo\")\n"
   ]
  },
  {
   "cell_type": "code",
   "execution_count": 33,
   "id": "7def6637",
   "metadata": {},
   "outputs": [
    {
     "data": {
      "application/vnd.jupyter.widget-view+json": {
       "model_id": "",
       "version_major": 2,
       "version_minor": 0
      },
      "text/plain": [
       "FloatProgress(value=0.0, bar_style='info', description='Progress:', layout=Layout(height='25px', width='50%'),…"
      ]
     },
     "metadata": {},
     "output_type": "display_data"
    },
    {
     "name": "stdout",
     "output_type": "stream",
     "text": [
      "+----+-----------------+-----------+-----------------------+\n",
      "|sexo|casos_recuperados|total_casos|porcentaje_recuperacion|\n",
      "+----+-----------------+-----------+-----------------------+\n",
      "|   M|              518|        540|      95.92592592592592|\n",
      "|   F|              415|        433|      95.84295612009238|\n",
      "+----+-----------------+-----------+-----------------------+"
     ]
    }
   ],
   "source": [
    "# Crear una vista temporal recuperacion_por_sexo con SQL\n",
    "spark.sql(\"\"\"\n",
    "CREATE OR REPLACE TEMP VIEW recuperacion_por_sexo AS\n",
    "SELECT sexo,\n",
    "       COUNT(CASE WHEN recuperado = 'Recuperado' THEN 1 END) as casos_recuperados,\n",
    "       COUNT(*) as total_casos,\n",
    "       (COUNT(CASE WHEN recuperado = 'Recuperado' THEN 1 END) / COUNT(*)) * 100 as porcentaje_recuperacion\n",
    "FROM api_df\n",
    "GROUP BY sexo\n",
    "\"\"\")\n",
    "# Ejecutar la consulta para mostrar los resultados\n",
    "spark.sql(\"SELECT * FROM recuperacion_por_sexo\").show()\n",
    "# Guardar los resultados en un archivo CSV\n",
    "spark.sql(\"SELECT * FROM recuperacion_por_sexo\").coalesce(1).write.format(\"csv\").option(\"header\", \"true\").mode(\"overwrite\").save(trusted_dir + \"/recuperacion_por_sexo\")\n"
   ]
  },
  {
   "cell_type": "code",
   "execution_count": 34,
   "id": "c276ce50",
   "metadata": {},
   "outputs": [
    {
     "data": {
      "application/vnd.jupyter.widget-view+json": {
       "model_id": "",
       "version_major": 2,
       "version_minor": 0
      },
      "text/plain": [
       "FloatProgress(value=0.0, bar_style='info', description='Progress:', layout=Layout(height='25px', width='50%'),…"
      ]
     },
     "metadata": {},
     "output_type": "display_data"
    },
    {
     "name": "stdout",
     "output_type": "stream",
     "text": [
      "+-------------------+-----+\n",
      "|departamento_nombre|count|\n",
      "+-------------------+-----+\n",
      "|          ANTIOQUIA|  217|\n",
      "|             BOGOTA|  166|\n",
      "|              VALLE|  148|\n",
      "|          SANTANDER|  101|\n",
      "|          CARTAGENA|   51|\n",
      "|       BARRANQUILLA|   51|\n",
      "|              SUCRE|   25|\n",
      "|             TOLIMA|   24|\n",
      "|               META|   16|\n",
      "|       CUNDINAMARCA|   15|\n",
      "|             CALDAS|   12|\n",
      "|          RISARALDA|   12|\n",
      "|     STA MARTA D.E.|   12|\n",
      "|            GUAJIRA|   12|\n",
      "|              CAUCA|   10|\n",
      "|          ATLANTICO|   10|\n",
      "|            CORDOBA|   10|\n",
      "|            BOLIVAR|    8|\n",
      "|    NORTE SANTANDER|    7|\n",
      "|              HUILA|    6|\n",
      "+-------------------+-----+"
     ]
    }
   ],
   "source": [
    "# Crear una vista temporal recuperados con SQL\n",
    "spark.sql(\"\"\"\n",
    "CREATE OR REPLACE TEMP VIEW recuperados AS\n",
    "SELECT *\n",
    "FROM api_df\n",
    "WHERE recuperado = 'Recuperado'\n",
    "\"\"\")\n",
    "# Crear una vista temporal tasa_recuperacion con SQL\n",
    "spark.sql(\"\"\"\n",
    "CREATE OR REPLACE TEMP VIEW tasa_recuperacion AS\n",
    "SELECT departamento_nombre, COUNT(*) as count\n",
    "FROM recuperados\n",
    "GROUP BY departamento_nombre\n",
    "ORDER BY count DESC\n",
    "\"\"\")\n",
    "# Ejecutar la consulta para mostrar los resultados\n",
    "spark.sql(\"SELECT * FROM tasa_recuperacion LIMIT 20\").show()\n",
    "# Guardar los resultados en un archivo CSV\n",
    "spark.sql(\"SELECT * FROM tasa_recuperacion\").coalesce(1).write.format(\"csv\").option(\"header\", \"true\").mode(\"overwrite\").save(trusted_dir + \"/tasa_recuperacion_departamento\")\n"
   ]
  },
  {
   "cell_type": "code",
   "execution_count": 35,
   "id": "4e79cd36",
   "metadata": {},
   "outputs": [
    {
     "data": {
      "application/vnd.jupyter.widget-view+json": {
       "model_id": "",
       "version_major": 2,
       "version_minor": 0
      },
      "text/plain": [
       "FloatProgress(value=0.0, bar_style='info', description='Progress:', layout=Layout(height='25px', width='50%'),…"
      ]
     },
     "metadata": {},
     "output_type": "display_data"
    },
    {
     "name": "stdout",
     "output_type": "stream",
     "text": [
      "+----------------+-------------+-----------+---------------------+\n",
      "|municipio_nombre|total_muertes|total_casos|porcentaje_mortalidad|\n",
      "+----------------+-------------+-----------+---------------------+\n",
      "|           FUNZA|            1|          1|                100.0|\n",
      "|        CAUCASIA|            1|          1|                100.0|\n",
      "|          OBANDO|            1|          1|                100.0|\n",
      "|         ARMENIA|            1|          2|                 50.0|\n",
      "|          SOACHA|            1|          6|   16.666666666666664|\n",
      "|            CALI|           20|        164|   12.195121951219512|\n",
      "|     PIEDECUESTA|            1|         12|    8.333333333333332|\n",
      "|   VILLAVICENCIO|            1|         17|     5.88235294117647|\n",
      "|          BOGOTA|            8|        174|    4.597701149425287|\n",
      "|     BUCARAMANGA|            1|         22|    4.545454545454546|\n",
      "|    BARRANQUILLA|            2|         51|   3.9215686274509802|\n",
      "|        MEDELLIN|            2|         77|   2.5974025974025974|\n",
      "| BARRANCABERMEJA|            1|         43|   2.3255813953488373|\n",
      "|           BELLO|            1|         63|   1.5873015873015872|\n",
      "|          PELAYA|            0|          1|                  0.0|\n",
      "|           SUPIA|            0|          1|                  0.0|\n",
      "|          RETIRO|            0|          1|                  0.0|\n",
      "|       MARINILLA|            0|          1|                  0.0|\n",
      "|          OVEJAS|            0|          2|                  0.0|\n",
      "|        RIOHACHA|            0|          6|                  0.0|\n",
      "+----------------+-------------+-----------+---------------------+"
     ]
    }
   ],
   "source": [
    "# Crear una vista temporal mortalidad_municipios con SQL\n",
    "spark.sql(\"\"\"\n",
    "CREATE OR REPLACE TEMP VIEW mortalidad_municipios AS\n",
    "SELECT municipio_nombre,\n",
    "       COUNT(CASE WHEN fecha_muerte != 'N/A' THEN 1 END) as total_muertes,\n",
    "       COUNT(*) as total_casos,\n",
    "       (COUNT(CASE WHEN fecha_muerte != 'N/A' THEN 1 END) / COUNT(*)) * 100 as porcentaje_mortalidad\n",
    "FROM api_df\n",
    "GROUP BY municipio_nombre\n",
    "ORDER BY porcentaje_mortalidad DESC\n",
    "\"\"\")\n",
    "# Ejecutar la consulta para mostrar los resultados\n",
    "spark.sql(\"SELECT * FROM mortalidad_municipios LIMIT 20\").show()\n",
    "# Guardar los resultados en un archivo CSV\n",
    "spark.sql(\"SELECT * FROM mortalidad_municipios\").coalesce(1).write.format(\"csv\").option(\"header\", \"true\").mode(\"overwrite\").save(trusted_dir + \"/mortalidad_municipios\")\n"
   ]
  },
  {
   "cell_type": "code",
   "execution_count": 36,
   "id": "62e82b24",
   "metadata": {},
   "outputs": [
    {
     "data": {
      "application/vnd.jupyter.widget-view+json": {
       "model_id": "",
       "version_major": 2,
       "version_minor": 0
      },
      "text/plain": [
       "FloatProgress(value=0.0, bar_style='info', description='Progress:', layout=Layout(height='25px', width='50%'),…"
      ]
     },
     "metadata": {},
     "output_type": "display_data"
    },
    {
     "name": "stdout",
     "output_type": "stream",
     "text": [
      "+----------------------------------+--------------------------------------+\n",
      "|promedio_dias_sintomas_diagnostico|promedio_dias_diagnostico_recuperacion|\n",
      "+----------------------------------+--------------------------------------+\n",
      "|                11.247658688865766|                     23.19506966773848|\n",
      "+----------------------------------+--------------------------------------+"
     ]
    }
   ],
   "source": [
    "spark.sql(\"\"\"\n",
    "CREATE OR REPLACE TEMP VIEW df_con_dias AS\n",
    "SELECT *,\n",
    "       DATEDIFF(fecha_diagnostico, fecha_inicio_sintomas) AS dias_sintomas_diagnostico,\n",
    "       DATEDIFF(fecha_recuperacion, fecha_diagnostico) AS dias_diagnostico_recuperacion\n",
    "FROM api_df\n",
    "\"\"\")\n",
    "# Crear una vista temporal tiempos_promedio con SQL\n",
    "spark.sql(\"\"\"\n",
    "CREATE OR REPLACE TEMP VIEW tiempos_promedio AS\n",
    "SELECT \n",
    "    AVG(dias_sintomas_diagnostico) AS promedio_dias_sintomas_diagnostico,\n",
    "    AVG(dias_diagnostico_recuperacion) AS promedio_dias_diagnostico_recuperacion\n",
    "FROM df_con_dias\n",
    "\"\"\")\n",
    "# Ejecutar la consulta para mostrar los resultados\n",
    "spark.sql(\"SELECT * FROM tiempos_promedio\").show()\n",
    "# Guardar los resultados en un archivo CSV\n",
    "spark.sql(\"SELECT * FROM tiempos_promedio\").coalesce(1).write.format(\"csv\").option(\"header\", \"true\").mode(\"overwrite\").save(trusted_dir + \"/tiempos_promedio\")"
   ]
  },
  {
   "cell_type": "code",
   "execution_count": 37,
   "id": "03b1cfb7",
   "metadata": {},
   "outputs": [
    {
     "data": {
      "application/vnd.jupyter.widget-view+json": {
       "model_id": "",
       "version_major": 2,
       "version_minor": 0
      },
      "text/plain": [
       "FloatProgress(value=0.0, bar_style='info', description='Progress:', layout=Layout(height='25px', width='50%'),…"
      ]
     },
     "metadata": {},
     "output_type": "display_data"
    },
    {
     "name": "stdout",
     "output_type": "stream",
     "text": [
      "+-------------------+--------------------------+-------------------------+\n",
      "|   municipio_nombre|promedio_dias_recuperacion|mediana_dias_recuperacion|\n",
      "+-------------------+--------------------------+-------------------------+\n",
      "|              FUNZA|                      NULL|                     NULL|\n",
      "|           CAUCASIA|                      NULL|                     NULL|\n",
      "|             OBANDO|                      NULL|                     NULL|\n",
      "|            CAIMITO|                      13.0|                       13|\n",
      "|        PUERTO RICO|                      15.0|                       15|\n",
      "|            LA CEJA|                      15.0|                       15|\n",
      "|SANTA ROSA DE CABAL|                      15.0|                       15|\n",
      "|            DUITAMA|                      15.0|                       15|\n",
      "|          ZIPAQUIRA|                      15.0|                       15|\n",
      "|            PALMIRA|                      15.0|                       15|\n",
      "|             ARAUCA|                      15.0|                       15|\n",
      "|            ARMENIA|                      15.0|                       15|\n",
      "|           COLOMBIA|                      15.0|                       15|\n",
      "|            CARTAGO|                      15.0|                       15|\n",
      "|            GUADUAS|                      15.0|                       15|\n",
      "|    BELEN DE UMBRIA|                      15.0|                       15|\n",
      "|           LA UNION|                      15.0|                       15|\n",
      "|         LA TEBAIDA|                      15.0|                       15|\n",
      "|             FORTUL|                      15.0|                       15|\n",
      "|            CALARCA|                      15.0|                       15|\n",
      "+-------------------+--------------------------+-------------------------+"
     ]
    }
   ],
   "source": [
    "# Crear una vista temporal con el cálculo de días de recuperación\n",
    "spark.sql(\"\"\"\n",
    "CREATE OR REPLACE TEMP VIEW df_con_dias_recuperacion AS\n",
    "SELECT *,\n",
    "       DATEDIFF(fecha_recuperacion, fecha_inicio_sintomas) AS dias_recuperacion\n",
    "FROM api_df\n",
    "\"\"\")\n",
    "# Crear una vista temporal con las estadísticas de días de recuperación\n",
    "spark.sql(\"\"\"\n",
    "CREATE OR REPLACE TEMP VIEW dias_recuperacion_estadisticas AS\n",
    "SELECT municipio_nombre,\n",
    "       AVG(dias_recuperacion) AS promedio_dias_recuperacion,\n",
    "       PERCENTILE_APPROX(dias_recuperacion, 0.5) AS mediana_dias_recuperacion\n",
    "FROM df_con_dias_recuperacion\n",
    "GROUP BY municipio_nombre\n",
    "ORDER BY promedio_dias_recuperacion\n",
    "\"\"\")\n",
    "# Ejecutar la consulta para mostrar los resultados\n",
    "spark.sql(\"SELECT * FROM dias_recuperacion_estadisticas LIMIT 20\").show()\n",
    "# Guardar los resultados en un archivo CSV\n",
    "spark.sql(\"SELECT * FROM dias_recuperacion_estadisticas\").coalesce(1).write.format(\"csv\").option(\"header\", \"true\").mode(\"overwrite\").save(trusted_dir + \"/estadisticas_recuperacion_municipios\")\n"
   ]
  },
  {
   "cell_type": "code",
   "execution_count": null,
   "id": "790f3f4d",
   "metadata": {},
   "outputs": [],
   "source": []
  }
 ],
 "metadata": {
  "kernelspec": {
   "display_name": "PySpark",
   "language": "python",
   "name": "pysparkkernel"
  },
  "language_info": {
   "codemirror_mode": {
    "name": "python",
    "version": 3
   },
   "file_extension": ".py",
   "mimetype": "text/x-python",
   "name": "pyspark",
   "pygments_lexer": "python3"
  }
 },
 "nbformat": 4,
 "nbformat_minor": 5
}

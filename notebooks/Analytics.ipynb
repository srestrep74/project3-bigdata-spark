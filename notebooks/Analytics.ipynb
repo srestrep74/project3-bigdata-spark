{
 "cells": [
  {
   "cell_type": "code",
   "execution_count": 1,
   "id": "38f3e43f",
   "metadata": {},
   "outputs": [
    {
     "name": "stdout",
     "output_type": "stream",
     "text": [
      "Starting Spark application\n"
     ]
    },
    {
     "data": {
      "text/html": [
       "<table>\n",
       "<tr><th>ID</th><th>YARN Application ID</th><th>Kind</th><th>State</th><th>Spark UI</th><th>Driver log</th><th>User</th><th>Current session?</th></tr><tr><td>1</td><td>application_1732380342473_0002</td><td>pyspark</td><td>idle</td><td><a target=\"_blank\" href=\"http://ip-172-31-6-71.ec2.internal:20888/proxy/application_1732380342473_0002/\">Link</a></td><td><a target=\"_blank\" href=\"http://ip-172-31-6-202.ec2.internal:8042/node/containerlogs/container_1732380342473_0002_01_000001/livy\">Link</a></td><td>None</td><td>✔</td></tr></table>"
      ],
      "text/plain": [
       "<IPython.core.display.HTML object>"
      ]
     },
     "metadata": {},
     "output_type": "display_data"
    },
    {
     "data": {
      "application/vnd.jupyter.widget-view+json": {
       "model_id": "",
       "version_major": 2,
       "version_minor": 0
      },
      "text/plain": [
       "FloatProgress(value=0.0, bar_style='info', description='Progress:', layout=Layout(height='25px', width='50%'),…"
      ]
     },
     "metadata": {},
     "output_type": "display_data"
    },
    {
     "name": "stdout",
     "output_type": "stream",
     "text": [
      "SparkSession available as 'spark'.\n"
     ]
    },
    {
     "data": {
      "application/vnd.jupyter.widget-view+json": {
       "model_id": "",
       "version_major": 2,
       "version_minor": 0
      },
      "text/plain": [
       "FloatProgress(value=0.0, bar_style='info', description='Progress:', layout=Layout(height='25px', width='50%'),…"
      ]
     },
     "metadata": {},
     "output_type": "display_data"
    }
   ],
   "source": [
    "# import SparkSession\n",
    "from pyspark.sql import SparkSession\n",
    "\n",
    "# Create SparkSession\n",
    "spark = SparkSession.builder.appName(\"Data Analysis\").getOrCreate()"
   ]
  },
  {
   "cell_type": "code",
   "execution_count": 19,
   "id": "30bf02b0",
   "metadata": {},
   "outputs": [
    {
     "data": {
      "application/vnd.jupyter.widget-view+json": {
       "model_id": "",
       "version_major": 2,
       "version_minor": 0
      },
      "text/plain": [
       "FloatProgress(value=0.0, bar_style='info', description='Progress:', layout=Layout(height='25px', width='50%'),…"
      ]
     },
     "metadata": {},
     "output_type": "display_data"
    }
   ],
   "source": [
    "# Load data\n",
    "api_df = spark.read.csv('s3://project-buck3/TRUSTED/api_db/cleaned_data.csv',inferSchema=True,header=True)\n",
    "local_df = spark.read.csv('s3://project-buck3/TRUSTED/local_db/cleaned_data.csv',inferSchema=True,header=True)"
   ]
  },
  {
   "cell_type": "code",
   "execution_count": 21,
   "id": "978aa2d3",
   "metadata": {},
   "outputs": [
    {
     "data": {
      "application/vnd.jupyter.widget-view+json": {
       "model_id": "",
       "version_major": 2,
       "version_minor": 0
      },
      "text/plain": [
       "FloatProgress(value=0.0, bar_style='info', description='Progress:', layout=Layout(height='25px', width='50%'),…"
      ]
     },
     "metadata": {},
     "output_type": "display_data"
    },
    {
     "name": "stdout",
     "output_type": "stream",
     "text": [
      "Covid api data dataframe columns:\n",
      " - fecha_reporte\n",
      " - departamento_id\n",
      " - departamento_nombre\n",
      " - municipio_id\n",
      " - municipio_nombre\n",
      " - edad\n",
      " - sexo\n",
      " - recuperado\n",
      " - fecha_inicio_sintomas\n",
      " - fecha_diagnostico\n",
      " - fecha_recuperacion\n",
      " - fecha_muerte\n",
      "\n",
      "Covid local data dataframe columns:\n",
      " - fecha_reporte\n",
      " - pruebas_realizadas\n",
      " - personas_vacunadas\n",
      " - ocupacion_uci\n",
      " - tasa_transmision\n",
      " - medidas_control"
     ]
    }
   ],
   "source": [
    "# Reconocimiento del dataframe\n",
    "def print_df_columns(df, df_name):\n",
    "    print(f'{df_name} dataframe columns:')\n",
    "    for column in df.columns:\n",
    "        print(f' - {column}')\n",
    "    print()\n",
    "    \n",
    "print_df_columns(api_df, 'Covid api data')\n",
    "print_df_columns(local_df, 'Covid local data')"
   ]
  },
  {
   "cell_type": "code",
   "execution_count": 27,
   "id": "e9f45bb8",
   "metadata": {},
   "outputs": [
    {
     "data": {
      "application/vnd.jupyter.widget-view+json": {
       "model_id": "",
       "version_major": 2,
       "version_minor": 0
      },
      "text/plain": [
       "FloatProgress(value=0.0, bar_style='info', description='Progress:', layout=Layout(height='25px', width='50%'),…"
      ]
     },
     "metadata": {},
     "output_type": "display_data"
    },
    {
     "name": "stdout",
     "output_type": "stream",
     "text": [
      "973"
     ]
    }
   ],
   "source": [
    "api_df.count()"
   ]
  },
  {
   "cell_type": "code",
   "execution_count": 28,
   "id": "91f787fe",
   "metadata": {},
   "outputs": [
    {
     "data": {
      "application/vnd.jupyter.widget-view+json": {
       "model_id": "",
       "version_major": 2,
       "version_minor": 0
      },
      "text/plain": [
       "FloatProgress(value=0.0, bar_style='info', description='Progress:', layout=Layout(height='25px', width='50%'),…"
      ]
     },
     "metadata": {},
     "output_type": "display_data"
    },
    {
     "name": "stdout",
     "output_type": "stream",
     "text": [
      "1413"
     ]
    }
   ],
   "source": [
    "local_df.count()"
   ]
  },
  {
   "cell_type": "code",
   "execution_count": 29,
   "id": "adf1591e",
   "metadata": {},
   "outputs": [
    {
     "data": {
      "application/vnd.jupyter.widget-view+json": {
       "model_id": "",
       "version_major": 2,
       "version_minor": 0
      },
      "text/plain": [
       "FloatProgress(value=0.0, bar_style='info', description='Progress:', layout=Layout(height='25px', width='50%'),…"
      ]
     },
     "metadata": {},
     "output_type": "display_data"
    },
    {
     "name": "stdout",
     "output_type": "stream",
     "text": [
      "root\n",
      " |-- fecha_reporte: date (nullable = true)\n",
      " |-- departamento_id: integer (nullable = true)\n",
      " |-- departamento_nombre: string (nullable = true)\n",
      " |-- municipio_id: integer (nullable = true)\n",
      " |-- municipio_nombre: string (nullable = true)\n",
      " |-- edad: integer (nullable = true)\n",
      " |-- sexo: string (nullable = true)\n",
      " |-- recuperado: string (nullable = true)\n",
      " |-- fecha_inicio_sintomas: string (nullable = true)\n",
      " |-- fecha_diagnostico: date (nullable = true)\n",
      " |-- fecha_recuperacion: string (nullable = true)\n",
      " |-- fecha_muerte: string (nullable = true)"
     ]
    }
   ],
   "source": [
    "api_df.printSchema()"
   ]
  },
  {
   "cell_type": "code",
   "execution_count": 30,
   "id": "f5805327",
   "metadata": {},
   "outputs": [
    {
     "data": {
      "application/vnd.jupyter.widget-view+json": {
       "model_id": "",
       "version_major": 2,
       "version_minor": 0
      },
      "text/plain": [
       "FloatProgress(value=0.0, bar_style='info', description='Progress:', layout=Layout(height='25px', width='50%'),…"
      ]
     },
     "metadata": {},
     "output_type": "display_data"
    },
    {
     "name": "stdout",
     "output_type": "stream",
     "text": [
      "root\n",
      " |-- fecha_reporte: date (nullable = true)\n",
      " |-- pruebas_realizadas: integer (nullable = true)\n",
      " |-- personas_vacunadas: integer (nullable = true)\n",
      " |-- ocupacion_uci: double (nullable = true)\n",
      " |-- tasa_transmision: double (nullable = true)\n",
      " |-- medidas_control: string (nullable = true)"
     ]
    }
   ],
   "source": [
    "local_df.printSchema()"
   ]
  },
  {
   "cell_type": "code",
   "execution_count": 31,
   "id": "b895f2c8",
   "metadata": {},
   "outputs": [
    {
     "data": {
      "application/vnd.jupyter.widget-view+json": {
       "model_id": "",
       "version_major": 2,
       "version_minor": 0
      },
      "text/plain": [
       "FloatProgress(value=0.0, bar_style='info', description='Progress:', layout=Layout(height='25px', width='50%'),…"
      ]
     },
     "metadata": {},
     "output_type": "display_data"
    },
    {
     "name": "stdout",
     "output_type": "stream",
     "text": [
      "+-------------+---------------+-------------------+------------+----------------+----+----+----------+---------------------+-----------------+------------------+------------+\n",
      "|fecha_reporte|departamento_id|departamento_nombre|municipio_id|municipio_nombre|edad|sexo|recuperado|fecha_inicio_sintomas|fecha_diagnostico|fecha_recuperacion|fecha_muerte|\n",
      "+-------------+---------------+-------------------+------------+----------------+----+----+----------+---------------------+-----------------+------------------+------------+\n",
      "|   2020-07-18|             44|            GUAJIRA|       44001|        RIOHACHA|  38|   F|Recuperado|           2020-06-27|       2020-07-11|        2020-07-27|         N/A|\n",
      "|   2021-01-07|             76|              VALLE|       76001|            CALI|  67|   M|Recuperado|           2020-12-27|       2021-01-05|        2021-02-26|         N/A|\n",
      "|   2020-07-09|             11|             BOGOTA|       11001|          BOGOTA|  50|   F|Recuperado|           2020-06-29|       2020-07-09|        2020-07-28|         N/A|\n",
      "|   2020-09-03|              5|          ANTIOQUIA|        5088|           BELLO|  22|   M|Recuperado|           2020-08-15|       2020-08-30|        2021-06-02|         N/A|\n",
      "|   2020-07-18|           8001|       BARRANQUILLA|        8001|    BARRANQUILLA|  35|   M|Recuperado|           2020-06-27|       2020-07-11|        2020-07-28|         N/A|\n",
      "|   2020-07-25|             11|             BOGOTA|       11001|          BOGOTA|  46|   F|Recuperado|           2020-07-11|       2020-07-24|        2020-08-09|         N/A|\n",
      "|   2020-11-08|             76|              VALLE|       76001|            CALI|  30|   F|Recuperado|           2020-10-30|       2020-11-04|        2020-11-14|         N/A|\n",
      "|   2021-01-07|             76|              VALLE|       76001|            CALI|  41|   F|Recuperado|           2020-12-22|       2021-01-04|        2021-01-08|         N/A|\n",
      "|   2020-09-03|              5|          ANTIOQUIA|        5615|        RIONEGRO|   2|   F|Recuperado|           2020-08-16|       2020-08-31|        2020-09-08|         N/A|\n",
      "|   2020-11-08|             11|             BOGOTA|       11001|          BOGOTA|  81|   F| Fallecido|           2020-10-31|       2020-11-07|               N/A|  2020-11-11|\n",
      "|   2020-07-18|          13001|          CARTAGENA|       13001|       CARTAGENA|   9|   M|Recuperado|           2020-06-27|       2020-07-11|        2020-07-27|         N/A|\n",
      "|   2021-01-14|             11|             BOGOTA|       11001|          BOGOTA|  38|   M|Recuperado|                  N/A|       2021-01-12|        2021-01-27|         N/A|\n",
      "|   2020-06-25|             44|            GUAJIRA|       44847|          URIBIA|  22|   F|Recuperado|           2020-06-17|       2020-06-25|        2020-07-17|         N/A|\n",
      "|   2020-05-23|          13001|          CARTAGENA|       13001|       CARTAGENA|  37|   M|Recuperado|           2020-05-15|       2020-05-23|        2020-06-18|         N/A|\n",
      "|   2020-09-03|              5|          ANTIOQUIA|        5088|           BELLO|  53|   M|Recuperado|           2020-08-17|       2020-09-01|        2020-09-08|         N/A|\n",
      "|   2020-07-09|             11|             BOGOTA|       11001|          BOGOTA|  61|   F|Recuperado|           2020-06-27|       2020-07-09|        2020-08-10|         N/A|\n",
      "|   2020-08-05|             11|             BOGOTA|       11001|          BOGOTA|  44|   M|Recuperado|           2020-07-30|       2020-08-04|        2020-08-24|         N/A|\n",
      "|   2020-08-05|             73|             TOLIMA|       73001|          IBAGUE|  33|   F|Recuperado|           2020-07-30|       2020-08-04|        2020-08-24|         N/A|\n",
      "|   2020-07-18|           8001|       BARRANQUILLA|        8001|    BARRANQUILLA|  57|   M|Recuperado|           2020-06-27|       2020-07-11|        2020-07-27|         N/A|\n",
      "|   2020-07-18|          13001|          CARTAGENA|       13001|       CARTAGENA|  31|   M|Recuperado|           2020-06-28|       2020-07-12|        2020-07-28|         N/A|\n",
      "+-------------+---------------+-------------------+------------+----------------+----+----+----------+---------------------+-----------------+------------------+------------+\n",
      "only showing top 20 rows"
     ]
    }
   ],
   "source": [
    "api_df.show()"
   ]
  },
  {
   "cell_type": "code",
   "execution_count": 32,
   "id": "3fbdbf9a",
   "metadata": {
    "scrolled": true
   },
   "outputs": [
    {
     "data": {
      "application/vnd.jupyter.widget-view+json": {
       "model_id": "",
       "version_major": 2,
       "version_minor": 0
      },
      "text/plain": [
       "FloatProgress(value=0.0, bar_style='info', description='Progress:', layout=Layout(height='25px', width='50%'),…"
      ]
     },
     "metadata": {},
     "output_type": "display_data"
    },
    {
     "name": "stdout",
     "output_type": "stream",
     "text": [
      "+-------------+------------------+------------------+-------------+----------------+--------------------+\n",
      "|fecha_reporte|pruebas_realizadas|personas_vacunadas|ocupacion_uci|tasa_transmision|     medidas_control|\n",
      "+-------------+------------------+------------------+-------------+----------------+--------------------+\n",
      "|   2020-10-13|               458|                69|        96.69|            2.05|   Sin restricciones|\n",
      "|   2021-06-18|               264|               130|        87.87|            0.93| Cierre de fronteras|\n",
      "|   2021-10-13|               678|               751|        77.06|            1.97|   Sin restricciones|\n",
      "|   2022-06-05|               886|               163|        71.11|            2.05| Cuarentena estricta|\n",
      "|   2022-09-12|               566|               732|        55.93|            1.78|Restricción nocturna|\n",
      "|   2023-09-24|               653|               859|        92.79|            1.51| Cierre de fronteras|\n",
      "|   2023-10-20|               420|               102|        96.97|            2.39|   Sin restricciones|\n",
      "|   2022-06-08|               619|               327|        96.56|            1.92| Cuarentena estricta|\n",
      "|   2021-10-22|               390|                11|        73.49|            2.05|Restricción nocturna|\n",
      "|   2021-12-03|               490|               248|        97.23|            2.07|Restricción nocturna|\n",
      "|   2022-01-01|               408|               304|        98.29|            1.33| Cuarentena estricta|\n",
      "|   2023-07-16|               202|               147|        77.15|            1.78| Cierre de fronteras|\n",
      "|   2020-09-28|               476|               779|        76.51|            1.39|Restricción nocturna|\n",
      "|   2023-09-13|               544|               166|        91.83|            1.12|Restricción nocturna|\n",
      "|   2020-04-12|               677|               457|        86.75|            1.79| Cierre de fronteras|\n",
      "|   2021-04-27|               675|               295|        70.87|            2.15|Restricción nocturna|\n",
      "|   2021-12-10|               720|               297|        87.43|            2.15|Restricción nocturna|\n",
      "|   2020-10-06|               509|               231|        76.73|            1.21| Cierre de fronteras|\n",
      "|   2023-05-27|               635|               172|        77.13|            1.53| Cierre de fronteras|\n",
      "|   2020-08-29|               591|               637|        81.82|            1.53|Restricción nocturna|\n",
      "+-------------+------------------+------------------+-------------+----------------+--------------------+\n",
      "only showing top 20 rows"
     ]
    }
   ],
   "source": [
    "local_df.show()"
   ]
  },
  {
   "cell_type": "code",
   "execution_count": 56,
   "id": "13e8d941",
   "metadata": {},
   "outputs": [
    {
     "data": {
      "application/vnd.jupyter.widget-view+json": {
       "model_id": "",
       "version_major": 2,
       "version_minor": 0
      },
      "text/plain": [
       "FloatProgress(value=0.0, bar_style='info', description='Progress:', layout=Layout(height='25px', width='50%'),…"
      ]
     },
     "metadata": {},
     "output_type": "display_data"
    }
   ],
   "source": [
    "trusted_dir = \"s3://project-buck3/REFINED/bussiness_analytics/dataframes\"\n"
   ]
  },
  {
   "cell_type": "code",
   "execution_count": 57,
   "id": "097738a4",
   "metadata": {},
   "outputs": [
    {
     "data": {
      "application/vnd.jupyter.widget-view+json": {
       "model_id": "",
       "version_major": 2,
       "version_minor": 0
      },
      "text/plain": [
       "FloatProgress(value=0.0, bar_style='info', description='Progress:', layout=Layout(height='25px', width='50%'),…"
      ]
     },
     "metadata": {},
     "output_type": "display_data"
    },
    {
     "name": "stdout",
     "output_type": "stream",
     "text": [
      "+-------------------+----------------+-----+\n",
      "|departamento_nombre|municipio_nombre|count|\n",
      "+-------------------+----------------+-----+\n",
      "|             BOGOTA|          BOGOTA|  174|\n",
      "|              VALLE|            CALI|  164|\n",
      "|          ANTIOQUIA|        MEDELLIN|   77|\n",
      "|          ANTIOQUIA|           BELLO|   63|\n",
      "|          CARTAGENA|       CARTAGENA|   51|\n",
      "|       BARRANQUILLA|    BARRANQUILLA|   51|\n",
      "|          SANTANDER| BARRANCABERMEJA|   43|\n",
      "|          ANTIOQUIA|          ITAGUI|   30|\n",
      "|          SANTANDER|     BUCARAMANGA|   22|\n",
      "|             TOLIMA|          IBAGUE|   22|\n",
      "|          SANTANDER|   FLORIDABLANCA|   21|\n",
      "|              SUCRE|       SINCELEJO|   20|\n",
      "|               META|   VILLAVICENCIO|   17|\n",
      "|          SANTANDER|     PIEDECUESTA|   12|\n",
      "|     STA MARTA D.E.|     SANTA MARTA|   12|\n",
      "|             CALDAS|       MANIZALES|   10|\n",
      "|              CAUCA|         POPAYAN|    9|\n",
      "|            CORDOBA|        MONTERIA|    9|\n",
      "|          ANTIOQUIA|        RIONEGRO|    6|\n",
      "|          ATLANTICO|         SOLEDAD|    6|\n",
      "+-------------------+----------------+-----+\n",
      "only showing top 20 rows"
     ]
    }
   ],
   "source": [
    "from pyspark.sql.functions import col\n",
    "\n",
    "# Total de casos por departamento y municipio\n",
    "casos_por_ubicacion = api_df.groupBy(\"departamento_nombre\", \"municipio_nombre\").count()\n",
    "casos_por_ubicacion.orderBy(col(\"count\").desc()).show()\n",
    "\n",
    "\n",
    "casos_por_ubicacion.coalesce(1).write.format(\"csv\").option(\"header\", \"true\").mode(\"overwrite\").save(trusted_dir + \"casos_por_ubicacion\") \n"
   ]
  },
  {
   "cell_type": "code",
   "execution_count": 58,
   "id": "c7cf5121",
   "metadata": {},
   "outputs": [
    {
     "data": {
      "application/vnd.jupyter.widget-view+json": {
       "model_id": "",
       "version_major": 2,
       "version_minor": 0
      },
      "text/plain": [
       "FloatProgress(value=0.0, bar_style='info', description='Progress:', layout=Layout(height='25px', width='50%'),…"
      ]
     },
     "metadata": {},
     "output_type": "display_data"
    },
    {
     "name": "stdout",
     "output_type": "stream",
     "text": [
      "+-------------+-----+\n",
      "|fecha_reporte|count|\n",
      "+-------------+-----+\n",
      "|   2020-09-03|  180|\n",
      "|   2020-07-18|  134|\n",
      "|   2020-06-25|   96|\n",
      "|   2021-01-07|   70|\n",
      "|   2020-11-08|   61|\n",
      "|   2021-01-14|   60|\n",
      "|   2020-07-25|   54|\n",
      "|   2020-08-05|   49|\n",
      "|   2020-09-23|   45|\n",
      "|   2020-12-24|   30|\n",
      "|   2020-08-13|   30|\n",
      "|   2020-10-23|   29|\n",
      "|   2021-01-13|   24|\n",
      "|   2020-12-08|   21|\n",
      "|   2020-07-09|   18|\n",
      "|   2020-09-13|   15|\n",
      "|   2021-01-12|   13|\n",
      "|   2020-10-03|   12|\n",
      "|   2020-08-17|   11|\n",
      "|   2020-08-25|   10|\n",
      "+-------------+-----+\n",
      "only showing top 20 rows"
     ]
    }
   ],
   "source": [
    "from pyspark.sql.functions import to_date\n",
    "\n",
    "# Convertir fechas a formato adecuado\n",
    "df = api_df.withColumn(\"fecha_reporte\", to_date(\"fecha_reporte\", \"yyyy-MM-dd\"))\n",
    "\n",
    "# Casos reportados por día\n",
    "casos_por_dia = df.groupBy(\"fecha_reporte\").count()\n",
    "casos_por_dia.orderBy(col(\"count\").desc()).show()\n",
    "\n",
    "casos_por_dia.coalesce(1).write.format(\"csv\").option(\"header\", \"true\").mode(\"overwrite\").save(trusted_dir + \"casos_por_dia\") \n"
   ]
  },
  {
   "cell_type": "code",
   "execution_count": 60,
   "id": "78531597",
   "metadata": {},
   "outputs": [
    {
     "data": {
      "application/vnd.jupyter.widget-view+json": {
       "model_id": "",
       "version_major": 2,
       "version_minor": 0
      },
      "text/plain": [
       "FloatProgress(value=0.0, bar_style='info', description='Progress:', layout=Layout(height='25px', width='50%'),…"
      ]
     },
     "metadata": {},
     "output_type": "display_data"
    },
    {
     "name": "stdout",
     "output_type": "stream",
     "text": [
      "+----+-----+\n",
      "|edad|count|\n",
      "+----+-----+\n",
      "|  33|   37|\n",
      "|  32|   34|\n",
      "|  30|   27|\n",
      "|  35|   27|\n",
      "|  25|   24|\n",
      "|  26|   23|\n",
      "|  40|   23|\n",
      "|  52|   23|\n",
      "|  22|   22|\n",
      "|  23|   22|\n",
      "|  31|   22|\n",
      "|  42|   22|\n",
      "|  38|   21|\n",
      "|  24|   21|\n",
      "|  29|   21|\n",
      "|  34|   21|\n",
      "|  41|   20|\n",
      "|  37|   19|\n",
      "|  36|   19|\n",
      "|  39|   19|\n",
      "+----+-----+\n",
      "only showing top 20 rows\n",
      "\n",
      "+----+-----+\n",
      "|sexo|count|\n",
      "+----+-----+\n",
      "|   M|  540|\n",
      "|   F|  433|\n",
      "+----+-----+"
     ]
    }
   ],
   "source": [
    "# Distribución de casos por edad\n",
    "casos_por_edad = api_df.groupBy(\"edad\").count()\n",
    "casos_por_edad.orderBy(col(\"count\").desc()).show()\n",
    "\n",
    "casos_por_edad.coalesce(1).write.format(\"csv\").option(\"header\", \"true\").mode(\"overwrite\").save(trusted_dir + \"casos_por_edad\") \n",
    "\n",
    "\n",
    "# Distribución por sexo\n",
    "casos_por_sexo = df.groupBy(\"sexo\").count()\n",
    "casos_por_sexo.show()\n",
    "\n",
    "casos_por_sexo.coalesce(1).write.format(\"csv\").option(\"header\", \"true\").mode(\"overwrite\").save(trusted_dir + \"casos_por_sexo\") \n"
   ]
  },
  {
   "cell_type": "code",
   "execution_count": 61,
   "id": "6cd7ce02",
   "metadata": {},
   "outputs": [
    {
     "data": {
      "application/vnd.jupyter.widget-view+json": {
       "model_id": "",
       "version_major": 2,
       "version_minor": 0
      },
      "text/plain": [
       "FloatProgress(value=0.0, bar_style='info', description='Progress:', layout=Layout(height='25px', width='50%'),…"
      ]
     },
     "metadata": {},
     "output_type": "display_data"
    },
    {
     "name": "stdout",
     "output_type": "stream",
     "text": [
      "+----+-----------------+-----------+-----------------------+\n",
      "|sexo|casos_recuperados|total_casos|porcentaje_recuperacion|\n",
      "+----+-----------------+-----------+-----------------------+\n",
      "|   M|              518|        540|      95.92592592592592|\n",
      "|   F|              415|        433|      95.84295612009238|\n",
      "+----+-----------------+-----------+-----------------------+"
     ]
    }
   ],
   "source": [
    "# Evaluar el porcentaje de recuperados por sexo\n",
    "recuperacion_por_sexo = api_df.groupBy(\"sexo\") \\\n",
    "    .agg(\n",
    "        count(when(col(\"recuperado\") == \"Recuperado\", True)).alias(\"casos_recuperados\"),\n",
    "        count(\"*\").alias(\"total_casos\")\n",
    "    ) \\\n",
    "    .withColumn(\"porcentaje_recuperacion\", (col(\"casos_recuperados\") / col(\"total_casos\")) * 100)\n",
    "recuperacion_por_sexo.show()\n",
    "\n",
    "recuperacion_por_sexo.coalesce(1).write.format(\"csv\").option(\"header\", \"true\").mode(\"overwrite\").save(trusted_dir + \"recuperacion_por_sexo\") \n"
   ]
  },
  {
   "cell_type": "code",
   "execution_count": 62,
   "id": "915c4158",
   "metadata": {},
   "outputs": [
    {
     "data": {
      "application/vnd.jupyter.widget-view+json": {
       "model_id": "",
       "version_major": 2,
       "version_minor": 0
      },
      "text/plain": [
       "FloatProgress(value=0.0, bar_style='info', description='Progress:', layout=Layout(height='25px', width='50%'),…"
      ]
     },
     "metadata": {},
     "output_type": "display_data"
    },
    {
     "name": "stdout",
     "output_type": "stream",
     "text": [
      "+-------------------+-----+\n",
      "|departamento_nombre|count|\n",
      "+-------------------+-----+\n",
      "|          ANTIOQUIA|  217|\n",
      "|             BOGOTA|  166|\n",
      "|              VALLE|  148|\n",
      "|          SANTANDER|  101|\n",
      "|          CARTAGENA|   51|\n",
      "|       BARRANQUILLA|   51|\n",
      "|              SUCRE|   25|\n",
      "|             TOLIMA|   24|\n",
      "|               META|   16|\n",
      "|       CUNDINAMARCA|   15|\n",
      "|             CALDAS|   12|\n",
      "|          RISARALDA|   12|\n",
      "|     STA MARTA D.E.|   12|\n",
      "|            GUAJIRA|   12|\n",
      "|              CAUCA|   10|\n",
      "|          ATLANTICO|   10|\n",
      "|            CORDOBA|   10|\n",
      "|            BOLIVAR|    8|\n",
      "|    NORTE SANTANDER|    7|\n",
      "|              HUILA|    6|\n",
      "+-------------------+-----+\n",
      "only showing top 20 rows"
     ]
    }
   ],
   "source": [
    "from pyspark.sql.functions import when\n",
    "\n",
    "# Filtrar casos recuperados\n",
    "recuperados = df.filter(col(\"recuperado\") == \"Recuperado\")\n",
    "\n",
    "# Contar casos por departamento\n",
    "tasa_recuperacion = recuperados.groupBy(\"departamento_nombre\").count()\n",
    "tasa_recuperacion.orderBy(col(\"count\").desc()).show()\n",
    "\n",
    "tasa_recuperacion.coalesce(1).write.format(\"csv\").option(\"header\", \"true\").mode(\"overwrite\").save(trusted_dir + \"tasa_recuperacion_departamento\") \n"
   ]
  },
  {
   "cell_type": "code",
   "execution_count": 63,
   "id": "c2ea89c2",
   "metadata": {},
   "outputs": [
    {
     "data": {
      "application/vnd.jupyter.widget-view+json": {
       "model_id": "",
       "version_major": 2,
       "version_minor": 0
      },
      "text/plain": [
       "FloatProgress(value=0.0, bar_style='info', description='Progress:', layout=Layout(height='25px', width='50%'),…"
      ]
     },
     "metadata": {},
     "output_type": "display_data"
    },
    {
     "name": "stdout",
     "output_type": "stream",
     "text": [
      "+----------------+-------------+-----------+---------------------+\n",
      "|municipio_nombre|total_muertes|total_casos|porcentaje_mortalidad|\n",
      "+----------------+-------------+-----------+---------------------+\n",
      "|           FUNZA|            1|          1|                100.0|\n",
      "|        CAUCASIA|            1|          1|                100.0|\n",
      "|          OBANDO|            1|          1|                100.0|\n",
      "|         ARMENIA|            1|          2|                 50.0|\n",
      "|          SOACHA|            1|          6|   16.666666666666664|\n",
      "|            CALI|           20|        164|   12.195121951219512|\n",
      "|     PIEDECUESTA|            1|         12|    8.333333333333332|\n",
      "|   VILLAVICENCIO|            1|         17|     5.88235294117647|\n",
      "|          BOGOTA|            8|        174|    4.597701149425287|\n",
      "|     BUCARAMANGA|            1|         22|    4.545454545454546|\n",
      "|    BARRANQUILLA|            2|         51|   3.9215686274509802|\n",
      "|        MEDELLIN|            2|         77|   2.5974025974025974|\n",
      "| BARRANCABERMEJA|            1|         43|   2.3255813953488373|\n",
      "|           BELLO|            1|         63|   1.5873015873015872|\n",
      "|          PELAYA|            0|          1|                  0.0|\n",
      "|           SUPIA|            0|          1|                  0.0|\n",
      "|          RETIRO|            0|          1|                  0.0|\n",
      "|       MARINILLA|            0|          1|                  0.0|\n",
      "|          OVEJAS|            0|          2|                  0.0|\n",
      "|        RIOHACHA|            0|          6|                  0.0|\n",
      "+----------------+-------------+-----------+---------------------+\n",
      "only showing top 20 rows"
     ]
    }
   ],
   "source": [
    "# Listar los municipios con mayor porcentae de muertes respecto al total de casos \n",
    "mortalidad_municipios = api_df.groupBy(\"municipio_nombre\") \\\n",
    "    .agg(\n",
    "        count(when(col(\"fecha_muerte\") != \"N/A\", True)).alias(\"total_muertes\"),\n",
    "        count(\"*\").alias(\"total_casos\")\n",
    "    ) \\\n",
    "    .withColumn(\"porcentaje_mortalidad\", (col(\"total_muertes\") / col(\"total_casos\")) * 100) \\\n",
    "    .orderBy(\"porcentaje_mortalidad\", ascending=False)\n",
    "mortalidad_municipios.show()\n",
    "\n",
    "mortalidad_municipios.coalesce(1).write.format(\"csv\").option(\"header\", \"true\").mode(\"overwrite\").save(trusted_dir + \"mortalidad_municipios\") \n"
   ]
  },
  {
   "cell_type": "code",
   "execution_count": 64,
   "id": "e3999e3e",
   "metadata": {},
   "outputs": [
    {
     "data": {
      "application/vnd.jupyter.widget-view+json": {
       "model_id": "",
       "version_major": 2,
       "version_minor": 0
      },
      "text/plain": [
       "FloatProgress(value=0.0, bar_style='info', description='Progress:', layout=Layout(height='25px', width='50%'),…"
      ]
     },
     "metadata": {},
     "output_type": "display_data"
    },
    {
     "name": "stdout",
     "output_type": "stream",
     "text": [
      "+----------------------------------+--------------------------------------+\n",
      "|promedio_dias_sintomas_diagnostico|promedio_dias_diagnostico_recuperacion|\n",
      "+----------------------------------+--------------------------------------+\n",
      "|                11.247658688865766|                     23.19506966773848|\n",
      "+----------------------------------+--------------------------------------+"
     ]
    }
   ],
   "source": [
    "from pyspark.sql.functions import avg,datediff\n",
    "\n",
    "# Calcular días entre síntomas y diagnóstico\n",
    "df = df.withColumn(\"dias_sintomas_diagnostico\", datediff(\"fecha_diagnostico\", \"fecha_inicio_sintomas\"))\n",
    "\n",
    "# Calcular días entre diagnóstico y recuperación\n",
    "df = df.withColumn(\"dias_diagnostico_recuperacion\", datediff(\"fecha_recuperacion\", \"fecha_diagnostico\"))\n",
    "\n",
    "# Promedio de días\n",
    "tiempos_promedio = df.select(\n",
    "    avg(\"dias_sintomas_diagnostico\").alias(\"promedio_dias_sintomas_diagnostico\"),\n",
    "    avg(\"dias_diagnostico_recuperacion\").alias(\"promedio_dias_diagnostico_recuperacion\")\n",
    ")\n",
    "tiempos_promedio.show()\n",
    "\n",
    "tiempos_promedio.coalesce(1).write.format(\"csv\").option(\"header\", \"true\").mode(\"overwrite\").save(trusted_dir + \"tiempos_promedio\") \n"
   ]
  },
  {
   "cell_type": "code",
   "execution_count": 65,
   "id": "a5fa3700",
   "metadata": {},
   "outputs": [
    {
     "data": {
      "application/vnd.jupyter.widget-view+json": {
       "model_id": "",
       "version_major": 2,
       "version_minor": 0
      },
      "text/plain": [
       "FloatProgress(value=0.0, bar_style='info', description='Progress:', layout=Layout(height='25px', width='50%'),…"
      ]
     },
     "metadata": {},
     "output_type": "display_data"
    },
    {
     "name": "stdout",
     "output_type": "stream",
     "text": [
      "+-------------------+--------------------------+-------------------------+\n",
      "|   municipio_nombre|promedio_dias_recuperacion|mediana_dias_recuperacion|\n",
      "+-------------------+--------------------------+-------------------------+\n",
      "|              FUNZA|                      NULL|                     NULL|\n",
      "|           CAUCASIA|                      NULL|                     NULL|\n",
      "|             OBANDO|                      NULL|                     NULL|\n",
      "|            CAIMITO|                      13.0|                       13|\n",
      "|            CARTAGO|                      15.0|                       15|\n",
      "|            LA CEJA|                      15.0|                       15|\n",
      "|            DUITAMA|                      15.0|                       15|\n",
      "|          ZIPAQUIRA|                      15.0|                       15|\n",
      "|           LA UNION|                      15.0|                       15|\n",
      "|SANTA ROSA DE CABAL|                      15.0|                       15|\n",
      "|        PUERTO RICO|                      15.0|                       15|\n",
      "|            ARMENIA|                      15.0|                       15|\n",
      "|           COLOMBIA|                      15.0|                       15|\n",
      "|            GUADUAS|                      15.0|                       15|\n",
      "|    BELEN DE UMBRIA|                      15.0|                       15|\n",
      "|             ARAUCA|                      15.0|                       15|\n",
      "|            PALMIRA|                      15.0|                       15|\n",
      "|         LA TEBAIDA|                      15.0|                       15|\n",
      "|             FORTUL|                      15.0|                       15|\n",
      "|            CALARCA|                      15.0|                       15|\n",
      "+-------------------+--------------------------+-------------------------+\n",
      "only showing top 20 rows"
     ]
    }
   ],
   "source": [
    "# Promedio y mediana por municipio entre la fecha de diagnóstico y de recuperación\n",
    "\n",
    "from pyspark.sql.window import Window\n",
    "from pyspark.sql.functions import percentile_approx\n",
    "\n",
    "# Calcular días de recuperación\n",
    "api_df = api_df.withColumn(\"dias_recuperacion\", \n",
    "    datediff(col(\"fecha_recuperacion\"), col(\"fecha_inicio_sintomas\")))\n",
    "\n",
    "dias_recuperacion_estadisticas = api_df.groupBy(\"municipio_nombre\") \\\n",
    "    .agg(\n",
    "        avg(\"dias_recuperacion\").alias(\"promedio_dias_recuperacion\"),\n",
    "        percentile_approx(\"dias_recuperacion\", 0.5).alias(\"mediana_dias_recuperacion\")\n",
    "    ) \\\n",
    "    .orderBy(\"promedio_dias_recuperacion\")\n",
    "dias_recuperacion_estadisticas.show()\n",
    "\n",
    "dias_recuperacion_estadisticas.coalesce(1).write.format(\"csv\").option(\"header\", \"true\").mode(\"overwrite\").save(trusted_dir + \"estadisticas_recuperacion_municipios\") "
   ]
  },
  {
   "cell_type": "code",
   "execution_count": 45,
   "id": "fc5038ce",
   "metadata": {},
   "outputs": [
    {
     "data": {
      "application/vnd.jupyter.widget-view+json": {
       "model_id": "",
       "version_major": 2,
       "version_minor": 0
      },
      "text/plain": [
       "FloatProgress(value=0.0, bar_style='info', description='Progress:', layout=Layout(height='25px', width='50%'),…"
      ]
     },
     "metadata": {},
     "output_type": "display_data"
    }
   ],
   "source": [
    "from pyspark.sql.functions import col, avg, count, when, lit\n",
    "\n",
    "# Unión de los DataFrames en base a fecha_reporte\n",
    "combined_df = api_df.join(local_df, on=\"fecha_reporte\", how=\"inner\")"
   ]
  },
  {
   "cell_type": "code",
   "execution_count": 66,
   "id": "a081fa92",
   "metadata": {},
   "outputs": [
    {
     "data": {
      "application/vnd.jupyter.widget-view+json": {
       "model_id": "",
       "version_major": 2,
       "version_minor": 0
      },
      "text/plain": [
       "FloatProgress(value=0.0, bar_style='info', description='Progress:', layout=Layout(height='25px', width='50%'),…"
      ]
     },
     "metadata": {},
     "output_type": "display_data"
    },
    {
     "name": "stdout",
     "output_type": "stream",
     "text": [
      "+----------------+------------------+---------------+\n",
      "|tasa_transmision|promedio_vacunados|total_registros|\n",
      "+----------------+------------------+---------------+\n",
      "|            0.82|             910.0|              4|\n",
      "|            0.86|             422.0|             21|\n",
      "|            0.91|             802.0|             96|\n",
      "|            0.95|             997.0|             70|\n",
      "|            0.97|             584.0|             18|\n",
      "|            0.98|             212.0|             10|\n",
      "|            0.99|             157.0|             54|\n",
      "|            1.15|             648.0|             13|\n",
      "|             1.2|             887.0|             24|\n",
      "|            1.27|             643.0|            134|\n",
      "|             1.3|             911.0|             11|\n",
      "|            1.39|             779.0|              1|\n",
      "|            1.51|             943.0|             30|\n",
      "|            1.63|             521.0|              1|\n",
      "|            1.69| 201.0909090909091|             33|\n",
      "|            1.79|             115.0|             61|\n",
      "|            1.84|             525.0|             60|\n",
      "|             1.9|             706.0|             30|\n",
      "|            1.92|             660.0|             49|\n",
      "|             2.1|             341.0|             12|\n",
      "+----------------+------------------+---------------+\n",
      "only showing top 20 rows"
     ]
    }
   ],
   "source": [
    "# Consulta 2: Relación entre tasa de transmisión y personas vacunadas\n",
    "consulta_2 = combined_df.groupBy(\"tasa_transmision\") \\\n",
    "    .agg(\n",
    "        avg(\"personas_vacunadas\").alias(\"promedio_vacunados\"),\n",
    "        count(\"*\").alias(\"total_registros\")\n",
    "    ).orderBy(col(\"tasa_transmision\"))\n",
    "consulta_2.show()\n",
    "\n",
    "consulta_2.coalesce(1).write.format(\"csv\").option(\"header\", \"true\").mode(\"overwrite\").save(trusted_dir + \"transmision_vacunacion\") \n"
   ]
  },
  {
   "cell_type": "code",
   "execution_count": 67,
   "id": "f983d61b",
   "metadata": {},
   "outputs": [
    {
     "data": {
      "application/vnd.jupyter.widget-view+json": {
       "model_id": "",
       "version_major": 2,
       "version_minor": 0
      },
      "text/plain": [
       "FloatProgress(value=0.0, bar_style='info', description='Progress:', layout=Layout(height='25px', width='50%'),…"
      ]
     },
     "metadata": {},
     "output_type": "display_data"
    },
    {
     "name": "stdout",
     "output_type": "stream",
     "text": [
      "+--------------------+-----------------+-----------+----------------------+\n",
      "|     medidas_control|total_recuperados|total_casos|porcentaje_recuperados|\n",
      "+--------------------+-----------------+-----------+----------------------+\n",
      "|   Sin restricciones|              130|        146|     89.04109589041096|\n",
      "| Cuarentena estricta|              343|        353|     97.16713881019831|\n",
      "|Restricción nocturna|              216|        220|     98.18181818181819|\n",
      "| Cierre de fronteras|              244|        254|     96.06299212598425|\n",
      "+--------------------+-----------------+-----------+----------------------+"
     ]
    }
   ],
   "source": [
    "# Consulta 3: Comparar casos recuperados con medidas de control\n",
    "consulta_3 = combined_df.groupBy(\"medidas_control\") \\\n",
    "    .agg(\n",
    "        count(when(col(\"recuperado\") == \"Recuperado\", True)).alias(\"total_recuperados\"),\n",
    "        count(\"*\").alias(\"total_casos\")\n",
    "    ).withColumn(\n",
    "        \"porcentaje_recuperados\",\n",
    "        (col(\"total_recuperados\") / col(\"total_casos\")) * 100\n",
    "    )\n",
    "consulta_3.show()\n",
    "\n",
    "consulta_3.coalesce(1).write.format(\"csv\").option(\"header\", \"true\").mode(\"overwrite\").save(trusted_dir + \"medidas_control\") \n"
   ]
  },
  {
   "cell_type": "code",
   "execution_count": 68,
   "id": "535bfc7a",
   "metadata": {},
   "outputs": [
    {
     "data": {
      "application/vnd.jupyter.widget-view+json": {
       "model_id": "",
       "version_major": 2,
       "version_minor": 0
      },
      "text/plain": [
       "FloatProgress(value=0.0, bar_style='info', description='Progress:', layout=Layout(height='25px', width='50%'),…"
      ]
     },
     "metadata": {},
     "output_type": "display_data"
    },
    {
     "name": "stdout",
     "output_type": "stream",
     "text": [
      "+-------------+------------------+----------------------+\n",
      "|fecha_reporte|     edad_promedio|ocupacion_uci_promedio|\n",
      "+-------------+------------------+----------------------+\n",
      "|   2020-05-23|              45.0|                 92.47|\n",
      "|   2020-06-25|38.572916666666664|     75.84000000000009|\n",
      "|   2020-07-09| 43.55555555555556|                 75.77|\n",
      "|   2020-07-18| 37.12686567164179|     80.36000000000003|\n",
      "|   2020-07-25| 43.05555555555556|     66.34999999999994|\n",
      "|   2020-08-05|39.775510204081634|     54.55000000000001|\n",
      "|   2020-08-09|             27.75|                 77.54|\n",
      "|   2020-08-13| 44.63333333333333|     88.78999999999998|\n",
      "|   2020-08-17| 47.54545454545455|                 66.52|\n",
      "|   2020-08-25|              48.4|     72.47000000000001|\n",
      "|   2020-09-03|40.766666666666666|    54.579999999999934|\n",
      "|   2020-09-13| 34.06666666666667|     96.32999999999998|\n",
      "|   2020-09-23| 45.15555555555556|                 66.39|\n",
      "|   2020-09-28|              31.0|                 76.51|\n",
      "|   2020-10-03|             40.25|     73.94000000000001|\n",
      "|   2020-10-08|              50.0|                 96.83|\n",
      "|   2020-10-23|25.103448275862068|                 93.77|\n",
      "|   2020-11-08|46.032786885245905|     99.15999999999991|\n",
      "|   2020-11-20|              38.0|                 73.02|\n",
      "|   2020-12-08|30.333333333333332|    63.519999999999996|\n",
      "+-------------+------------------+----------------------+\n",
      "only showing top 20 rows"
     ]
    }
   ],
   "source": [
    "# Consulta 4: Relación entre edad promedio y ocupación UCI\n",
    "consulta_4 = combined_df.groupBy(\"fecha_reporte\") \\\n",
    "    .agg(\n",
    "        avg(\"edad\").alias(\"edad_promedio\"),\n",
    "        avg(\"ocupacion_uci\").alias(\"ocupacion_uci_promedio\")\n",
    "    ).orderBy(col(\"fecha_reporte\"))\n",
    "consulta_4.show()\n",
    "\n",
    "consulta_4.coalesce(1).write.format(\"csv\").option(\"header\", \"true\").mode(\"overwrite\").save(trusted_dir + \"edad_ocupacion_UCI\") "
   ]
  },
  {
   "cell_type": "code",
   "execution_count": null,
   "id": "6e713d50",
   "metadata": {},
   "outputs": [],
   "source": []
  }
 ],
 "metadata": {
  "kernelspec": {
   "display_name": "PySpark",
   "language": "python",
   "name": "pysparkkernel"
  },
  "language_info": {
   "codemirror_mode": {
    "name": "python",
    "version": 3
   },
   "file_extension": ".py",
   "mimetype": "text/x-python",
   "name": "pyspark",
   "pygments_lexer": "python3"
  }
 },
 "nbformat": 4,
 "nbformat_minor": 5
}
